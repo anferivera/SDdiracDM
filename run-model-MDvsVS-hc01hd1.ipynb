{
 "cells": [
  {
   "cell_type": "markdown",
   "metadata": {},
   "source": [
    "# $M_D$ vs $v_S\\approx m_{\\chi^0_1}$ analog to the SD majorana DM: $h_d=1.0$"
   ]
  },
  {
   "cell_type": "code",
   "execution_count": 124,
   "metadata": {},
   "outputs": [],
   "source": [
    "import numpy as np\n",
    "import pandas as pd\n",
    "import subprocess\n",
    "import time"
   ]
  },
  {
   "cell_type": "code",
   "execution_count": 125,
   "metadata": {},
   "outputs": [],
   "source": [
    "%matplotlib inline\n",
    "import matplotlib.pyplot as plt "
   ]
  },
  {
   "cell_type": "markdown",
   "metadata": {},
   "source": [
    "# PMNS matrix 2018 to $3\\sigma$ https://arxiv.org/abs/1708.01186"
   ]
  },
  {
   "cell_type": "code",
   "execution_count": 126,
   "metadata": {},
   "outputs": [],
   "source": [
    "import NEUTRINO2018\n",
    "import neutrino_analytic2"
   ]
  },
  {
   "cell_type": "code",
   "execution_count": 127,
   "metadata": {},
   "outputs": [
    {
     "name": "stdout",
     "output_type": "stream",
     "text": [
      "n= 0 Omega= 0.0392\n",
      "n= 2 Omega= 0.293\n",
      "n= 6 Omega= 5.1\n",
      "n= 7 Omega= 0.347\n",
      "n= 8 Omega= 0.00846\n",
      "n= 11 Omega= 0.376\n",
      "n= 12 Omega= 30.4\n",
      "n= 13 Omega= 108.0\n",
      "n= 14 Omega= 0.0132\n",
      "n= 15 Omega= 6.09\n",
      "n= 18 Omega= 0.432\n",
      "n= 19 Omega= 0.00724\n",
      "The program spent 34.3957736492157 s running 25 times\n"
     ]
    }
   ],
   "source": [
    "#!/usr/bin/env python\n",
    "\n",
    "import pyslha\n",
    "import pySDdiracDM_LesHouches_generator\n",
    "import numpy as np\n",
    "import pandas as pd\n",
    "import subprocess\n",
    "import time\n",
    "import sys\n",
    "\n",
    "# Tiempo inicial\n",
    "t1=time.time() \n",
    "\n",
    "#Open xdict which is now a <PySLHA Doc: 10 blocks, 0 decays, 0 xsections>\n",
    "xdict = pySDdiracDM_LesHouches_generator.buildSLHAinFile()\n",
    "\n",
    "x=[]\n",
    "\n",
    "#times to run the program. Entry using the keyboard\n",
    "#Num = int(sys.argv[1])\n",
    "Num = 25\n",
    "\n",
    "for n in range(0,Num):\n",
    "\n",
    "    #Random parameters as input  \n",
    "    #BLOCK MINPAR\n",
    "    vevSM = 244.874425\n",
    "    MDF = np.exp(np.random.uniform(np.log(10**(2)),np.log(2.*10**(3))))\n",
    "    MS12 = 8.0E+06\n",
    "    MS22 = 7.0E+06\n",
    "    LamS1H = 0.0E-04\n",
    "    LamS2H = 0.0E-04\n",
    "    LamSPH = 0.0E-04\n",
    "    LamS = 1.0E-04     \n",
    "    LamSP = 1.0E-01    #ms ~ sqrt(2*lambdaS)*vs -> bigg, i.e. mh2 heavier\n",
    "    vS = np.exp(np.random.uniform(np.log(np.sqrt(2)*10**(1)),np.log(np.sqrt(2)*2.*10**(4))))\n",
    "    YRD = 1.0\n",
    "    YRC = 1.0E-01\n",
    "    \n",
    "    ###  NEUTRINO EXPERIMENTAL VALUES ###################################################\n",
    "    #phases of the PMNS matrix and the R \n",
    "    phases1 = np.random.uniform(0.,0.0*np.pi,3) # WARNING! They are in zero\n",
    "    delta = phases1[0]\n",
    "    eta1 = phases1[1]\n",
    "    eta2 = phases1[2]\n",
    "    #light neutrino masses (up 3 sigma range) NH (NO)\n",
    "    #mnu1 = 10**((np.log10(2.5e-3)-np.log10(1e-9))*np.random.uniform(0,1)+np.log10(1e-9))*1e-9 \n",
    "    #Zero in this framework\n",
    "    mnu1 = 1.0e-20\n",
    "    mnu2 = np.sqrt(np.random.uniform(7.05e-5,8.14e-5)*1.0e-18+mnu1**2)\n",
    "    mnu3 = np.sqrt(np.random.uniform(2.41e-3,2.60e-3)*1.0e-18+mnu1**2)\n",
    "    #mixing angles (up 3 sigma range) NH\n",
    "    t12 = np.arcsin(np.sqrt(np.random.uniform(0.273,0.379)))\n",
    "    t23 = np.arcsin(np.sqrt(np.random.uniform(0.445,0.599)))\n",
    "    t13 = np.arcsin(np.sqrt(np.random.uniform(0.0196,0.0241)))\n",
    "    #Building PMNS matrix NH\n",
    "    UM12 = np.array([ [np.cos(t12),np.sin(t12),0.], [-np.sin(t12),np.cos(t12),0.], [0.,0.,1.0] ])\n",
    "    UM13 = np.array([ [np.cos(t13),0.,np.sin(t13)], [0.,1.0,0.], [-np.sin(t13),0.,np.cos(t13)] ])\n",
    "    UM23 = np.array([ [1.0,0.,0.], [0.,np.cos(t23),np.sin(t23)], [0.,-np.sin(t23),np.cos(t23)] ])\n",
    "    Uphases = np.array([ [np.exp(eta1*1j),0.,0.], [0.,np.exp(eta2*1j),0.], [0.,0.,1.0] ])\n",
    "    U=np.dot(UM23,np.dot(UM13,np.dot(UM12,Uphases)))\n",
    "    #Defining the U elementes. readeable\n",
    "    U11 = np.real(U[0,0])\n",
    "    U12 = np.real(U[0,1])\n",
    "    U13 = np.real(U[0,2])\n",
    "    U21 = np.real(U[1,0])\n",
    "    U22 = np.real(U[1,1])\n",
    "    U23 = np.real(U[1,2])\n",
    "    U31 = np.real(U[2,0])\n",
    "    U32 = np.real(U[2,1])\n",
    "    U33 = np.real(U[2,2])\n",
    "    \n",
    "    ### Algoritm to compute LAMBDAi elements\n",
    "    MS1 = np.sqrt(LamS1H*vevSM**2/2.+MS12)\n",
    "    MS2 = np.sqrt(LamS2H*vevSM**2/2.+MS22)\n",
    "    M1 = neutrino_analytic2.MATRIXCHIDIAG(MDF,vS,YRC,YRD)['M1']\n",
    "    M2 = neutrino_analytic2.MATRIXCHIDIAG(MDF,vS,YRC,YRD)['M2']\n",
    "    vv12 = neutrino_analytic2.MATRIXCHIDIAG(MDF,vS,YRC,YRD)['V12']\n",
    "    vv22 = neutrino_analytic2.MATRIXCHIDIAG(MDF,vS,YRC,YRD)['V22']\n",
    "    uu11 = neutrino_analytic2.MATRIXCHIDIAG(MDF,vS,YRC,YRD)['U11']\n",
    "    uu21 = neutrino_analytic2.MATRIXCHIDIAG(MDF,vS,YRC,YRD)['U21']\n",
    "    L1 = neutrino_analytic2.LAMBDA(M1,MS1,vv12,uu11)+ neutrino_analytic2.LAMBDA(M2,MS1,vv22,uu21)\n",
    "    L2 = neutrino_analytic2.LAMBDA(M1,MS2,vv12,uu11)+ neutrino_analytic2.LAMBDA(M2,MS2,vv22,uu21)\n",
    "    \n",
    "    #####  ALGORITM: Particular case(see): inversion-neutrino-matrix.nb ######################\n",
    "    a11 = 0.0\n",
    "    a12 = 0.0 \n",
    "    ### Random -> FREE PARAMETERS\n",
    "    a21 = np.exp(np.random.uniform(np.log(10**(-4)),np.log(10**(0))))\n",
    "    a22 = np.exp(np.random.uniform(np.log(10**(-4)),np.log(10**(0))))\n",
    "    a31 = np.exp(np.random.uniform(np.log(10**(-4)),np.log(10**(0))))    \n",
    "    a32 = np.exp(np.random.uniform(np.log(10**(-4)),np.log(10**(0))))\n",
    "    ### Solved in Mathematica\n",
    "    b11 = -((a32*mnu2*U12 - a22*mnu3*U13)/(a22*a31*L1 - a21*a32*L1))   \n",
    "    b21 = -((a32*mnu2*U22 - a22*mnu3*U23)/(a22*a31*L1 - a21*a32*L1))\n",
    "    b31 = -((a32*mnu2*U32 - a22*mnu3*U33)/(a22*a31*L1 - a21*a32*L1))\n",
    "    b12 = (a31*mnu2*U12 - a21*mnu3*U13)/(a22*a31*L2 - a21*a32*L2)\n",
    "    b22 = (a31*mnu2*U22 - a21*mnu3*U23)/(a22*a31*L2 - a21*a32*L2)\n",
    "    b32 = (a31*mnu2*U32 - a21*mnu3*U33)/(a22*a31*L2 - a21*a32*L2)\n",
    "    \n",
    "    ###  Modify the LesHouches file   \n",
    "    xdict.blocks['MINPAR'].entries[2]='%.7E    # MDFInput' %MDF\n",
    "    xdict.blocks['MINPAR'].entries[3]='%.7E    # MS12Input' %MS12\n",
    "    xdict.blocks['MINPAR'].entries[4]='%.7E    # MS22Input' %MS22\n",
    "    xdict.blocks['MINPAR'].entries[5]='%.7E    # LamS1HInput' %LamS1H\n",
    "    xdict.blocks['MINPAR'].entries[6]='%.7E    # LamS2HInput' %LamS2H\n",
    "    xdict.blocks['MINPAR'].entries[7]='%.7E    # LamSPHInput' %LamSPH\n",
    "    xdict.blocks['MINPAR'].entries[8]='%.7E    # LamSInput' %LamS\n",
    "    xdict.blocks['MINPAR'].entries[9]='%.7E    # LamSPInput' %LamSP\n",
    "    xdict.blocks['MINPAR'].entries[10]='%.7E    # vSInput' %vS\n",
    "    xdict.blocks['MINPAR'].entries[11]='%.7E    # YRDInput' %YRD\n",
    "    xdict.blocks['MINPAR'].entries[12]='%.7E    # YRCInput' %YRC\n",
    "    \n",
    "    ###  Modify the LesHouches file \n",
    "    xdict.blocks['YRA1IN'].entries[1]='%.6E    # YRA1(1)' %a11  \n",
    "    xdict.blocks['YRA1IN'].entries[2]='%.6E    # YRA1(2)' %a21    \n",
    "    xdict.blocks['YRA1IN'].entries[3]='%.6E    # YRA1(3)' %a31     \n",
    "    xdict.blocks['YRA2IN'].entries[1]='%.6E    # YRA2(1)' %a12  \n",
    "    xdict.blocks['YRA2IN'].entries[2]='%.6E    # YRA2(2)' %a22     \n",
    "    xdict.blocks['YRA2IN'].entries[3]='%.6E    # YRA2(3)' %a32        \n",
    "    xdict.blocks['YRB1IN'].entries[1]='%.6E    # YRB1(1)' %b11  \n",
    "    xdict.blocks['YRB1IN'].entries[2]='%.6E    # YRB1(2)' %b21     \n",
    "    xdict.blocks['YRB1IN'].entries[3]='%.6E    # YRB1(3)' %b31 \n",
    "    xdict.blocks['YRB2IN'].entries[1]='%.6E    # YRB2(1)' %b12  \n",
    "    xdict.blocks['YRB2IN'].entries[2]='%.6E    # YRB2(2)' %b22     \n",
    "    xdict.blocks['YRB2IN'].entries[3]='%.6E    # YRB2(3)' %b32      \n",
    "    \n",
    "    ###  Write the Leshouches file\n",
    "    pyslha.writeSLHAFile('LesHouches.in.SDdiracDM_low',xdict)\n",
    "    \n",
    "    ### Run SPheno\n",
    "    spheno = subprocess.getoutput('../.././SPheno-4.0.3/bin/SPhenoSDdiracDM LesHouches.in.SDdiracDM_low')\n",
    "    SPheno_output = subprocess.getoutput('cat SPheno.spc.SDdiracDM')\n",
    "    \n",
    "    ###  Run micromegas and take the relic density. \n",
    "    #mo = subprocess.getoutput('~/Work/micromegas_4.2.5/SDdiracDM/./CalcOmega')\n",
    "    mo = subprocess.getoutput('~/Work/micromegas_4.2.5/SDdiracDM/./CalcOmega_with_DI_Detection') #Full\n",
    "    \n",
    "    if len(mo.split()) == 2:\n",
    "        continue\n",
    "    \n",
    "    Omega = eval(mo.split('Omega h^2=')[1].split()[0])\n",
    "    print(\"n=\",n,\"Omega=\",Omega)\n",
    "    \n",
    "    # Choose Omega at to 3 sigma\n",
    "    '''if Omega > 0.12800:\n",
    "        continue\n",
    "    if Omega < 0.11180:\n",
    "        continue'''\n",
    "    #print(Omega)\n",
    "    \n",
    "    ### Direct Detection: CDM-nucleon cross sections[pb]\n",
    "    PSI = eval(mo.split('CDM-nucleon cross sections[pb]:')[1].split()[2])\n",
    "    PSD = eval(mo.split('CDM-nucleon cross sections[pb]:')[1].split()[4])\n",
    "    NSI = eval(mo.split('CDM-nucleon cross sections[pb]:')[1].split()[7])\n",
    "    NSD = eval(mo.split('CDM-nucleon cross sections[pb]:')[1].split()[9])\n",
    "    ### Indirect Detection: annihilation cross section vcs[cm^3/s]\n",
    "    sv = eval(mo.split('annihilation cross section')[1].split()[0])\n",
    "    \n",
    "    mh1 = eval(SPheno_output.split('Block MASS')[1].split()[9])\n",
    "    mh2 = eval(SPheno_output.split('Block MASS')[1].split()[13])  \n",
    "    \n",
    "    ##++++++++++ Neutrinos +++++++++++++++++++++++++++++++++\n",
    "    if SPheno_output.split('# Fe_3')[1].split()[1] == \"NaN\":\n",
    "        mv1 = 0.\n",
    "    else: \n",
    "        mv1 = eval(SPheno_output.split('# Fe_3')[1].split()[1])            \n",
    "    mv2 = eval(SPheno_output.split('# Fe_3')[1].split()[5])       \n",
    "    mv3 = eval(SPheno_output.split('# Fe_3')[1].split()[9])    \n",
    "    \n",
    "    mS1 = eval(SPheno_output.split('# Fe_3')[1].split()[13])\n",
    "    mS2 = eval(SPheno_output.split('# Fe_3')[1].split()[17])\n",
    "    mCha = eval(SPheno_output.split('# Fe_3')[1].split()[21])\n",
    "    mChi1 = eval(SPheno_output.split('# Fe_3')[1].split()[25])\n",
    "    mChi2 = eval(SPheno_output.split('# Fe_3')[1].split()[29])    \n",
    "    XV11 = eval(SPheno_output.split('Block XV')[1].split()[6])\n",
    "    XV12 = eval(SPheno_output.split('Block XV')[1].split()[11])\n",
    "    XV21 = eval(SPheno_output.split('Block XV')[1].split()[16])\n",
    "    XV22 = eval(SPheno_output.split('Block XV')[1].split()[21])\n",
    "    XU11 = eval(SPheno_output.split('Block XU')[1].split()[6])\n",
    "    XU12 = eval(SPheno_output.split('Block XU')[1].split()[11])\n",
    "    XU21 = eval(SPheno_output.split('Block XU')[1].split()[16])\n",
    "    XU22 = eval(SPheno_output.split('Block XU')[1].split()[21])\n",
    "    vevSM = eval(SPheno_output.split('Block HMIX')[1].split()[6])\n",
    "    \n",
    "    ### EWPO\n",
    "    T = eval(SPheno_output.split('Block SPhenoLowEnergy')[1].split()[5])\n",
    "    S = eval(SPheno_output.split('Block SPhenoLowEnergy')[1].split()[11])\n",
    "    U = eval(SPheno_output.split('Block SPhenoLowEnergy')[1].split()[17])\n",
    "    ### LFV\n",
    "    mueg = eval(SPheno_output.split('Block FlavorKitLFV')[1].split()[6])\n",
    "\n",
    "    x.append([MDF,MS12,MS22,LamS1H,LamS2H,LamSPH,LamS,LamSP,vS,YRD,YRC,a11,a21,a31,a12,a22,a32,\\\n",
    "              b11,b21,b31,b12,b22,b32,mh1,mh2,mv3,mv2,mv1,mS1,mS2,mCha,mChi1,mChi2,\\\n",
    "              XV11,XV12,XV21,XV22,XU11,XU12,XU21,XU22,vevSM,Omega,PSI,PSD,NSI,NSD,T,S,U,mueg])\n",
    "    \n",
    "x=np.asarray(x)\n",
    "xd=pd.DataFrame(x,columns=['MDF','MS12','MS22','LamS1H','LamS2H','LamSPH','LamS','LamSP','vS','YRD'\\\n",
    "                           ,'YRC','YRA11','YRA12','YRA13','YRA21','YRA22','YRA23','YRB11','YRB12','YRB13'\\\n",
    "                           ,'YRB21','YRB22','YRB23','mh1','mh2','mv3','mv2','mv1','mS1','mS2','mCha'\\\n",
    "                           ,'mChi1','mChi2','XV11','XV12','XV21','XV22','XU11','XU12','XU21','XU22','vevSM'\\\n",
    "                          ,'Omega','PSI','PSD','NSI','NSD','T','S','U','mueg'])\n",
    "xd.to_csv('xd_scan1.csv')\n",
    "\n",
    "t4=time.time() \n",
    "print (\"The program spent\", t4-t1, \"s running\",Num,\"times\")    "
   ]
  },
  {
   "cell_type": "code",
   "execution_count": 128,
   "metadata": {},
   "outputs": [
    {
     "name": "stdout",
     "output_type": "stream",
     "text": [
      "(1095, 52) (12, 52) (1107, 51)\n"
     ]
    }
   ],
   "source": [
    "#Concatenar files\n",
    "xd0 = pd.read_csv('hc01hd1.csv')\n",
    "xdnew = pd.read_csv('xd_scan1.csv')\n",
    "\n",
    "xd = pd.concat([xd0, xdnew],ignore_index=True)\n",
    "del xd['Unnamed: 0']\n",
    "\n",
    "print(xd0.shape,xdnew.shape,xd.shape)"
   ]
  },
  {
   "cell_type": "code",
   "execution_count": 129,
   "metadata": {},
   "outputs": [],
   "source": [
    "#save file\n",
    "xd.to_csv('hc01hd1.csv')"
   ]
  },
  {
   "cell_type": "code",
   "execution_count": 130,
   "metadata": {},
   "outputs": [],
   "source": [
    "xd = pd.read_csv('hc01hd1.csv')\n",
    "del xd['Unnamed: 0']"
   ]
  },
  {
   "cell_type": "code",
   "execution_count": 131,
   "metadata": {},
   "outputs": [
    {
     "data": {
      "text/html": [
       "<div>\n",
       "<style scoped>\n",
       "    .dataframe tbody tr th:only-of-type {\n",
       "        vertical-align: middle;\n",
       "    }\n",
       "\n",
       "    .dataframe tbody tr th {\n",
       "        vertical-align: top;\n",
       "    }\n",
       "\n",
       "    .dataframe thead th {\n",
       "        text-align: right;\n",
       "    }\n",
       "</style>\n",
       "<table border=\"1\" class=\"dataframe\">\n",
       "  <thead>\n",
       "    <tr style=\"text-align: right;\">\n",
       "      <th></th>\n",
       "      <th>YRA11</th>\n",
       "      <th>YRA12</th>\n",
       "      <th>YRA13</th>\n",
       "      <th>YRA21</th>\n",
       "      <th>YRA22</th>\n",
       "      <th>YRA23</th>\n",
       "      <th>YRB11</th>\n",
       "      <th>YRB12</th>\n",
       "      <th>YRB13</th>\n",
       "      <th>YRB21</th>\n",
       "      <th>YRB22</th>\n",
       "      <th>YRB23</th>\n",
       "      <th>mChi1</th>\n",
       "      <th>Omega</th>\n",
       "    </tr>\n",
       "  </thead>\n",
       "  <tbody>\n",
       "    <tr>\n",
       "      <th>0</th>\n",
       "      <td>0.0</td>\n",
       "      <td>0.000624</td>\n",
       "      <td>0.041796</td>\n",
       "      <td>0.0</td>\n",
       "      <td>0.004345</td>\n",
       "      <td>0.001360</td>\n",
       "      <td>-9.600076e-09</td>\n",
       "      <td>-5.906915e-08</td>\n",
       "      <td>-5.549043e-08</td>\n",
       "      <td>-7.141608e-08</td>\n",
       "      <td>-4.948510e-08</td>\n",
       "      <td>9.071717e-08</td>\n",
       "      <td>82.653412</td>\n",
       "      <td>0.00113</td>\n",
       "    </tr>\n",
       "    <tr>\n",
       "      <th>1</th>\n",
       "      <td>0.0</td>\n",
       "      <td>0.012032</td>\n",
       "      <td>0.010106</td>\n",
       "      <td>0.0</td>\n",
       "      <td>0.008280</td>\n",
       "      <td>0.010338</td>\n",
       "      <td>-1.988545e-07</td>\n",
       "      <td>-8.637859e-06</td>\n",
       "      <td>-1.195989e-05</td>\n",
       "      <td>1.048172e-06</td>\n",
       "      <td>1.191981e-05</td>\n",
       "      <td>1.475642e-05</td>\n",
       "      <td>2.831358</td>\n",
       "      <td>1.11000</td>\n",
       "    </tr>\n",
       "    <tr>\n",
       "      <th>2</th>\n",
       "      <td>0.0</td>\n",
       "      <td>0.748457</td>\n",
       "      <td>0.000195</td>\n",
       "      <td>0.0</td>\n",
       "      <td>0.007553</td>\n",
       "      <td>0.151804</td>\n",
       "      <td>8.456229e-09</td>\n",
       "      <td>6.146451e-09</td>\n",
       "      <td>-1.505720e-08</td>\n",
       "      <td>6.946473e-08</td>\n",
       "      <td>3.118649e-07</td>\n",
       "      <td>3.182625e-07</td>\n",
       "      <td>2.831262</td>\n",
       "      <td>1.17000</td>\n",
       "    </tr>\n",
       "  </tbody>\n",
       "</table>\n",
       "</div>"
      ],
      "text/plain": [
       "   YRA11     YRA12     YRA13  YRA21     YRA22     YRA23         YRB11  \\\n",
       "0    0.0  0.000624  0.041796    0.0  0.004345  0.001360 -9.600076e-09   \n",
       "1    0.0  0.012032  0.010106    0.0  0.008280  0.010338 -1.988545e-07   \n",
       "2    0.0  0.748457  0.000195    0.0  0.007553  0.151804  8.456229e-09   \n",
       "\n",
       "          YRB12         YRB13         YRB21         YRB22         YRB23  \\\n",
       "0 -5.906915e-08 -5.549043e-08 -7.141608e-08 -4.948510e-08  9.071717e-08   \n",
       "1 -8.637859e-06 -1.195989e-05  1.048172e-06  1.191981e-05  1.475642e-05   \n",
       "2  6.146451e-09 -1.505720e-08  6.946473e-08  3.118649e-07  3.182625e-07   \n",
       "\n",
       "       mChi1    Omega  \n",
       "0  82.653412  0.00113  \n",
       "1   2.831358  1.11000  \n",
       "2   2.831262  1.17000  "
      ]
     },
     "execution_count": 131,
     "metadata": {},
     "output_type": "execute_result"
    }
   ],
   "source": [
    "xd[['YRA11','YRA12','YRA13','YRA21','YRA22','YRA23','YRB11','YRB12','YRB13','YRB21','YRB22','YRB23','mChi1','Omega']][:3]"
   ]
  },
  {
   "cell_type": "code",
   "execution_count": 132,
   "metadata": {},
   "outputs": [
    {
     "name": "stdout",
     "output_type": "stream",
     "text": [
      "Experimental values   : 8.687595789510396e-12 4.939803468578405e-11\n",
      " \n",
      "Inversion-SPHENO      : 7.68114526e-12 4.57450261e-11\n"
     ]
    }
   ],
   "source": [
    "print(\"Experimental values   :\",mnu2, mnu3)\n",
    "print(\" \")\n",
    "print(\"Inversion-SPHENO      :\",mv2,  mv3)"
   ]
  },
  {
   "cell_type": "code",
   "execution_count": 133,
   "metadata": {},
   "outputs": [
    {
     "name": "stdout",
     "output_type": "stream",
     "text": [
      "RUTINE:  25.11614 379.26801\n",
      "SPEHENO: 25.56865 241.50779\n"
     ]
    }
   ],
   "source": [
    "print(\"RUTINE: \",'%.5f' %M1, '%.5f' %M2)\n",
    "#\n",
    "print(\"SPEHENO:\",'%.5f' %mChi1 , '%.5f' %mChi2)"
   ]
  },
  {
   "cell_type": "markdown",
   "metadata": {},
   "source": [
    "# Analytical diagonalization rutine for Neutrino mass matriz"
   ]
  },
  {
   "cell_type": "code",
   "execution_count": 134,
   "metadata": {},
   "outputs": [
    {
     "data": {
      "image/png": "[encoded data removed]",
      "text/plain": [
       "<IPython.core.display.Image object>"
      ]
     },
     "execution_count": 134,
     "metadata": {
      "image/png": {
       "width": 500
      }
     },
     "output_type": "execute_result"
    }
   ],
   "source": [
    "from IPython.display import Image\n",
    "Image(\"/home/anferivera/Dropbox/SingletDoubletDirac/draft_SDdiracDM/figures/neutrino-GB.png\", width=500)"
   ]
  },
  {
   "cell_type": "markdown",
   "metadata": {},
   "source": [
    "TWO DIRAC FERMIONS IN THE LOOP:\n",
    "\n",
    "\\begin{align}\n",
    "\\mathcal{M}_{\\alpha\\beta}= \\sum_{i=1}^2\\sum_{k=1}^2\n",
    "\\dfrac{V_{k2}U_{k1}}{16\\pi^2}\n",
    "\\times b_{\\alpha i} a_{\\beta i} m_{N_k} \n",
    "\\times \\left[\\dfrac{m_{N_k}^2}{\\left(m_{N_k}^2-m_{S_i}^2\\right)}\\ln{\\left(\\dfrac{m_{N_k}^2}{m_{S_i}^2}\\right)}\\right]\\,.\n",
    "\\end{align}"
   ]
  },
  {
   "cell_type": "markdown",
   "metadata": {},
   "source": [
    "Import the analytical rutine for compute the $\\mathcal{M}_{\\alpha\\beta}$ version two"
   ]
  },
  {
   "cell_type": "markdown",
   "metadata": {},
   "source": [
    "Example:"
   ]
  },
  {
   "cell_type": "code",
   "execution_count": 135,
   "metadata": {},
   "outputs": [],
   "source": [
    "#Add to the DataFrame\n",
    "xd['mn1'] = neutrino_analytic2.MatrixDiag_new(xd.YRB11,xd.YRB12,xd.YRB13,xd.YRB21,xd.YRB22,xd.YRB23,\\\n",
    "   xd.YRA11,xd.YRA12,xd.YRA13,xd.YRA21,xd.YRA22,xd.YRA23,xd.mS1,xd.mS2,xd.MDF,xd.vS,xd.YRC,xd.YRD,xd.vevSM)[0]\n",
    "xd['mn2'] = neutrino_analytic2.MatrixDiag_new(xd.YRB11,xd.YRB12,xd.YRB13,xd.YRB21,xd.YRB22,xd.YRB23,\\\n",
    "   xd.YRA11,xd.YRA12,xd.YRA13,xd.YRA21,xd.YRA22,xd.YRA23,xd.mS1,xd.mS2,xd.MDF,xd.vS,xd.YRC,xd.YRD,xd.vevSM)[1]\n",
    "xd['mn3'] = neutrino_analytic2.MatrixDiag_new(xd.YRB11,xd.YRB12,xd.YRB13,xd.YRB21,xd.YRB22,xd.YRB23,\\\n",
    "   xd.YRA11,xd.YRA12,xd.YRA13,xd.YRA21,xd.YRA22,xd.YRA23,xd.mS1,xd.mS2,xd.MDF,xd.vS,xd.YRC,xd.YRD,xd.vevSM)[2]"
   ]
  },
  {
   "cell_type": "code",
   "execution_count": 136,
   "metadata": {},
   "outputs": [
    {
     "data": {
      "text/html": [
       "<div>\n",
       "<style scoped>\n",
       "    .dataframe tbody tr th:only-of-type {\n",
       "        vertical-align: middle;\n",
       "    }\n",
       "\n",
       "    .dataframe tbody tr th {\n",
       "        vertical-align: top;\n",
       "    }\n",
       "\n",
       "    .dataframe thead th {\n",
       "        text-align: right;\n",
       "    }\n",
       "</style>\n",
       "<table border=\"1\" class=\"dataframe\">\n",
       "  <thead>\n",
       "    <tr style=\"text-align: right;\">\n",
       "      <th></th>\n",
       "      <th>mv1</th>\n",
       "      <th>mn1</th>\n",
       "      <th>mv2</th>\n",
       "      <th>mn2</th>\n",
       "      <th>mv3</th>\n",
       "      <th>mn3</th>\n",
       "    </tr>\n",
       "  </thead>\n",
       "  <tbody>\n",
       "    <tr>\n",
       "      <th>0</th>\n",
       "      <td>3.936463e-19</td>\n",
       "      <td>4.336809e-19</td>\n",
       "      <td>8.843264e-12</td>\n",
       "      <td>7.965213e-12</td>\n",
       "      <td>4.993125e-11</td>\n",
       "      <td>5.543547e-11</td>\n",
       "    </tr>\n",
       "    <tr>\n",
       "      <th>1</th>\n",
       "      <td>2.349178e-19</td>\n",
       "      <td>1.533293e-19</td>\n",
       "      <td>5.083412e-12</td>\n",
       "      <td>1.185516e-11</td>\n",
       "      <td>2.949111e-11</td>\n",
       "      <td>3.504081e-11</td>\n",
       "    </tr>\n",
       "    <tr>\n",
       "      <th>2</th>\n",
       "      <td>2.724477e-19</td>\n",
       "      <td>0.000000e+00</td>\n",
       "      <td>5.532678e-12</td>\n",
       "      <td>9.746230e-12</td>\n",
       "      <td>3.202225e-11</td>\n",
       "      <td>4.541115e-11</td>\n",
       "    </tr>\n",
       "    <tr>\n",
       "      <th>3</th>\n",
       "      <td>3.219169e-19</td>\n",
       "      <td>0.000000e+00</td>\n",
       "      <td>5.114925e-12</td>\n",
       "      <td>8.578866e-12</td>\n",
       "      <td>2.994167e-11</td>\n",
       "      <td>4.963154e-11</td>\n",
       "    </tr>\n",
       "    <tr>\n",
       "      <th>4</th>\n",
       "      <td>2.581669e-19</td>\n",
       "      <td>0.000000e+00</td>\n",
       "      <td>8.968511e-12</td>\n",
       "      <td>7.912913e-12</td>\n",
       "      <td>4.972054e-11</td>\n",
       "      <td>5.635336e-11</td>\n",
       "    </tr>\n",
       "  </tbody>\n",
       "</table>\n",
       "</div>"
      ],
      "text/plain": [
       "            mv1           mn1           mv2           mn2           mv3  \\\n",
       "0  3.936463e-19  4.336809e-19  8.843264e-12  7.965213e-12  4.993125e-11   \n",
       "1  2.349178e-19  1.533293e-19  5.083412e-12  1.185516e-11  2.949111e-11   \n",
       "2  2.724477e-19  0.000000e+00  5.532678e-12  9.746230e-12  3.202225e-11   \n",
       "3  3.219169e-19  0.000000e+00  5.114925e-12  8.578866e-12  2.994167e-11   \n",
       "4  2.581669e-19  0.000000e+00  8.968511e-12  7.912913e-12  4.972054e-11   \n",
       "\n",
       "            mn3  \n",
       "0  5.543547e-11  \n",
       "1  3.504081e-11  \n",
       "2  4.541115e-11  \n",
       "3  4.963154e-11  \n",
       "4  5.635336e-11  "
      ]
     },
     "execution_count": 136,
     "metadata": {},
     "output_type": "execute_result"
    }
   ],
   "source": [
    "##WARNING: The vev change in SPheno\n",
    "xd[['mv1','mn1','mv2','mn2','mv3','mn3']][:5]"
   ]
  },
  {
   "cell_type": "markdown",
   "metadata": {},
   "source": [
    "# PLOTS"
   ]
  },
  {
   "cell_type": "code",
   "execution_count": 137,
   "metadata": {},
   "outputs": [],
   "source": [
    "#good plots\n",
    "plt.rcParams.update({'font.size': 20}) \n",
    "#plt.rc('font',size='18')"
   ]
  },
  {
   "cell_type": "code",
   "execution_count": 138,
   "metadata": {},
   "outputs": [
    {
     "name": "stdout",
     "output_type": "stream",
     "text": [
      "0.1197 0.1131 0.1263\n"
     ]
    }
   ],
   "source": [
    "#Experimental values for DM: Planck results 2015\n",
    "e = 3\n",
    "Omega = 0.1197\n",
    "Omega_max=Omega + e*0.0022\n",
    "Omega_min=Omega - e*0.0022\n",
    "print (Omega, Omega_min,Omega_max)\n",
    "# out: (0.1197, 0.1131, 0.1263)"
   ]
  },
  {
   "cell_type": "code",
   "execution_count": 139,
   "metadata": {},
   "outputs": [
    {
     "data": {
      "image/png": "[encoded data removed]",
      "text/plain": [
       "<Figure size 576x432 with 1 Axes>"
      ]
     },
     "metadata": {
      "needs_background": "light"
     },
     "output_type": "display_data"
    }
   ],
   "source": [
    "plt.figure(figsize=(8,6))\n",
    "\n",
    "plt.loglog(xd.mChi1,xd.Omega,'r.')\n",
    "plt.hlines(Omega,1,1e3, 'b',label=r'0.11')\n",
    "\n",
    "#plt.legend(prop={'size':15},loc='best')\n",
    "plt.xlabel(r'$m_{\\chi^0_1}$(GeV)',size=25)\n",
    "plt.ylabel(r'$\\Omega$',size=25)\n",
    "#plt.xlim(10,5e3)\n",
    "#plt.ylim(11.2e-2,1.3e-1)\n",
    "\n",
    "plt.show()"
   ]
  },
  {
   "cell_type": "markdown",
   "metadata": {},
   "source": [
    "cuts"
   ]
  },
  {
   "cell_type": "markdown",
   "metadata": {},
   "source": [
    "Maximun values: Some elements tend to be small"
   ]
  },
  {
   "cell_type": "code",
   "execution_count": 140,
   "metadata": {},
   "outputs": [
    {
     "name": "stdout",
     "output_type": "stream",
     "text": [
      "0.0009622474211729556 0.001036869960716599 0.0013749523683165964\n",
      "0.0003378960288220015 0.0019447017450542829 0.004287053373837793\n"
     ]
    }
   ],
   "source": [
    "print(np.abs(xd.YRB11).max(),np.abs(xd.YRB12).max(),np.abs(xd.YRB13).max())\n",
    "print(np.abs(xd.YRB21).max(),np.abs(xd.YRB22).max(),np.abs(xd.YRB23).max())"
   ]
  },
  {
   "cell_type": "code",
   "execution_count": 141,
   "metadata": {},
   "outputs": [],
   "source": [
    "xDM1 = xd[np.logical_and(xd.Omega>Omega_max, 1>0)]\n",
    "xDM2 = xd[np.logical_and(xd.Omega<Omega_min, 1>0)]"
   ]
  },
  {
   "cell_type": "code",
   "execution_count": 145,
   "metadata": {},
   "outputs": [
    {
     "data": {
      "image/png": "[encoded data removed]",
      "text/plain": [
       "<Figure size 576x432 with 1 Axes>"
      ]
     },
     "metadata": {
      "needs_background": "light"
     },
     "output_type": "display_data"
    }
   ],
   "source": [
    "plt.figure(figsize=(8,6))\n",
    "\n",
    "plt.loglog(xd.MDF, xd.vS*xd.YRC/np.sqrt(2),'c3',label=r'$\\Omega > \\Omega_{max}$')\n",
    "plt.loglog(xDM2.MDF, xDM2.vS*xDM2.YRC/np.sqrt(2),'ro',label=r'$\\Omega < \\Omega_{min}$')\n",
    "\n",
    "plt.title('$\\lambda_s=0.1$ , $h_c=0.1$ (mass), $h_d=1.0$ (mix)')\n",
    "plt.legend(prop={'size':15},loc='best')\n",
    "plt.xlabel(r'$M_{D}$(GeV)',size=25)\n",
    "plt.ylabel(r'$M_N=v_S \\times h_c /\\sqrt{2}$(GeV)',size=25)\n",
    "plt.ylim(5,2e3)\n",
    "\n",
    "plt.show()"
   ]
  },
  {
   "cell_type": "code",
   "execution_count": null,
   "metadata": {},
   "outputs": [],
   "source": []
  },
  {
   "cell_type": "code",
   "execution_count": null,
   "metadata": {},
   "outputs": [],
   "source": []
  },
  {
   "cell_type": "code",
   "execution_count": null,
   "metadata": {},
   "outputs": [],
   "source": []
  }
 ],
 "metadata": {
  "kernelspec": {
   "display_name": "Python 3",
   "language": "python",
   "name": "python3"
  },
  "language_info": {
   "codemirror_mode": {
    "name": "ipython",
    "version": 3
   },
   "file_extension": ".py",
   "mimetype": "text/x-python",
   "name": "python",
   "nbconvert_exporter": "python",
   "pygments_lexer": "ipython3",
   "version": "3.4.2"
  }
 },
 "nbformat": 4,
 "nbformat_minor": 1
}
