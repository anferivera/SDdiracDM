{
 "cells": [
  {
   "cell_type": "markdown",
   "metadata": {},
   "source": [
    "# General scrip to invert the problem of Neutrino Physics"
   ]
  },
  {
   "cell_type": "code",
   "execution_count": 1,
   "metadata": {},
   "outputs": [],
   "source": [
    "import numpy as np\n",
    "import pandas as pd\n",
    "import subprocess\n",
    "import time"
   ]
  },
  {
   "cell_type": "code",
   "execution_count": 2,
   "metadata": {},
   "outputs": [],
   "source": [
    "%matplotlib inline\n",
    "import matplotlib.pyplot as plt "
   ]
  },
  {
   "cell_type": "markdown",
   "metadata": {},
   "source": [
    "# PMNS matrix 2018 to $3\\sigma$ https://arxiv.org/abs/1708.01186"
   ]
  },
  {
   "cell_type": "code",
   "execution_count": 4,
   "metadata": {},
   "outputs": [],
   "source": [
    "import NEUTRINO2018\n",
    "import neutrino_analytic2"
   ]
  },
  {
   "cell_type": "code",
   "execution_count": 4,
   "metadata": {},
   "outputs": [
    {
     "name": "stdout",
     "output_type": "stream",
     "text": [
      "0.5091245684155457 0.7247428606623215\n",
      "1e-20 8.544640314716886e-12 4.920851454658966e-11\n",
      "SUM= 5.775315487130654e-11\n"
     ]
    }
   ],
   "source": [
    "mnu1 = NEUTRINO2018.nuexpvalues()['mnu1']\n",
    "mnu2 = NEUTRINO2018.nuexpvalues()['mnu2']\n",
    "mnu3 = NEUTRINO2018.nuexpvalues()['mnu3']\n",
    "U11 = NEUTRINO2018.nuexpvalues()['U11']\n",
    "U12 = NEUTRINO2018.nuexpvalues()['U12']\n",
    "U13 = NEUTRINO2018.nuexpvalues()['U13']\n",
    "U21 = NEUTRINO2018.nuexpvalues()['U21']\n",
    "U22 = NEUTRINO2018.nuexpvalues()['U22']\n",
    "U23 = NEUTRINO2018.nuexpvalues()['U23']\n",
    "U31 = NEUTRINO2018.nuexpvalues()['U31']\n",
    "U32 = NEUTRINO2018.nuexpvalues()['U32']\n",
    "U33 = NEUTRINO2018.nuexpvalues()['U33']\n",
    "\n",
    "print(U22,U23)\n",
    "print(mnu1,mnu2,mnu3)\n",
    "print(\"SUM=\",mnu1+mnu2+mnu3)"
   ]
  },
  {
   "cell_type": "markdown",
   "metadata": {},
   "source": [
    "WARNING in NEUTRINO2018.nuexpvalues rutine"
   ]
  },
  {
   "cell_type": "code",
   "execution_count": 81,
   "metadata": {},
   "outputs": [
    {
     "name": "stdout",
     "output_type": "stream",
     "text": [
      "n= 2 Omega= 7780000.0\n",
      "The program spent 3.550767183303833 s running 3 times\n"
     ]
    }
   ],
   "source": [
    "#!/usr/bin/env python\n",
    "\n",
    "import pyslha\n",
    "import pySDdiracDM_LesHouches_generator\n",
    "import numpy as np\n",
    "import pandas as pd\n",
    "import subprocess\n",
    "import time\n",
    "import sys\n",
    "\n",
    "# Tiempo inicial\n",
    "t1=time.time() \n",
    "\n",
    "#Open xdict which is now a <PySLHA Doc: 10 blocks, 0 decays, 0 xsections>\n",
    "xdict = pySDdiracDM_LesHouches_generator.buildSLHAinFile()\n",
    "\n",
    "x=[]\n",
    "\n",
    "#times to run the program. Entry using the keyboard\n",
    "#Num = int(sys.argv[1])\n",
    "Num = 3\n",
    "\n",
    "for n in range(0,Num):\n",
    "\n",
    "    #Random parameters as input  \n",
    "    #BLOCK MINPAR\n",
    "    vevSM = 244.874425\n",
    "    MDF = 400.\n",
    "    MS12 = 8.0E+06\n",
    "    MS22 = 9.0E+06\n",
    "    LamS1H = 0.0E-04\n",
    "    LamS2H = 0.0E-04\n",
    "    LamSPH = 0.0E-04\n",
    "    LamS = 1.0E-04\n",
    "    LamSP = 2.0E-01    \n",
    "    vS = 500.\n",
    "    YRD = 1.0E-03\n",
    "    YRC = 5.0E-02\n",
    "    \n",
    "    #Algoritm to compute LAMBDAi\n",
    "    MS1 = np.sqrt(LamS1H*vevSM**2/2.+MS12)\n",
    "    MS2 = np.sqrt(LamS2H*vevSM**2/2.+MS22)\n",
    "    M1 = neutrino_analytic2.MATRIXCHIDIAG(MDF,vS,YRC,YRD)['M1']\n",
    "    M2 = neutrino_analytic2.MATRIXCHIDIAG(MDF,vS,YRC,YRD)['M2']\n",
    "    vv12 = neutrino_analytic2.MATRIXCHIDIAG(MDF,vS,YRC,YRD)['V12']\n",
    "    vv22 = neutrino_analytic2.MATRIXCHIDIAG(MDF,vS,YRC,YRD)['V22']\n",
    "    uu11 = neutrino_analytic2.MATRIXCHIDIAG(MDF,vS,YRC,YRD)['U11']\n",
    "    uu21 = neutrino_analytic2.MATRIXCHIDIAG(MDF,vS,YRC,YRD)['U21']\n",
    "    L1 = neutrino_analytic2.LAMBDA(M1,MS1,vv12,uu11)+ neutrino_analytic2.LAMBDA(M2,MS1,vv22,uu21)\n",
    "    L2 = neutrino_analytic2.LAMBDA(M1,MS2,vv12,uu11)+ neutrino_analytic2.LAMBDA(M2,MS2,vv22,uu21)\n",
    "    \n",
    "        \n",
    "    #Neutrino experimental values to 3sigma -> WARNING!!!!\n",
    "    mnu1 = NEUTRINO2018.nuexpvalues()['mnu1']\n",
    "    mnu2 = NEUTRINO2018.nuexpvalues()['mnu2']\n",
    "    mnu3 = NEUTRINO2018.nuexpvalues()['mnu3']    \n",
    "    U11 = NEUTRINO2018.nuexpvalues()['U11']\n",
    "    U12 = NEUTRINO2018.nuexpvalues()['U12']\n",
    "    U13 = NEUTRINO2018.nuexpvalues()['U13']\n",
    "    U21 = NEUTRINO2018.nuexpvalues()['U21']\n",
    "    U22 = NEUTRINO2018.nuexpvalues()['U22']\n",
    "    U23 = NEUTRINO2018.nuexpvalues()['U23']\n",
    "    U31 = NEUTRINO2018.nuexpvalues()['U31']\n",
    "    U32 = NEUTRINO2018.nuexpvalues()['U32']\n",
    "    U33 = NEUTRINO2018.nuexpvalues()['U33']\n",
    "    \n",
    "    #ALGORITM: Particular case(see): inversion-neutrino-matrix.nb\n",
    "    a11 = 0.0\n",
    "    a12 = 0.0 \n",
    "    #Random\n",
    "    a21 = np.exp(np.random.uniform(np.log(10**(-4)),np.log(10**(0))))\n",
    "    a22 = np.exp(np.random.uniform(np.log(10**(-4)),np.log(10**(0))))\n",
    "    a31 = np.exp(np.random.uniform(np.log(10**(-4)),np.log(10**(0))))    \n",
    "    a32 = np.exp(np.random.uniform(np.log(10**(-4)),np.log(10**(0))))\n",
    "    #Solved in Mathematica\n",
    "    b11 = -((a32*mnu2*U12 - a22*mnu3*U13)/(a22*a31*L1 - a21*a32*L1))   \n",
    "    b21 = -((a32*mnu2*U22 - a22*mnu3*U23)/(a22*a31*L1 - a21*a32*L1))\n",
    "    b31 = -((a32*mnu2*U32 - a22*mnu3*U33)/(a22*a31*L1 - a21*a32*L1))\n",
    "    b12 = (a31*mnu2*U12 - a21*mnu3*U13)/(a22*a31*L2 - a21*a32*L2)\n",
    "    b22 = (a31*mnu2*U22 - a21*mnu3*U23)/(a22*a31*L2 - a21*a32*L2)\n",
    "    b32 = (a31*mnu2*U32 - a21*mnu3*U33)/(a22*a31*L2 - a21*a32*L2)\n",
    "    \n",
    "    # Modific the LesHouches file   \n",
    "    xdict.blocks['MINPAR'].entries[2]='%.7E    # MDFInput' %MDF\n",
    "    xdict.blocks['MINPAR'].entries[3]='%.7E    # MS12Input' %MS12\n",
    "    xdict.blocks['MINPAR'].entries[4]='%.7E    # MS22Input' %MS22\n",
    "    xdict.blocks['MINPAR'].entries[5]='%.7E    # LamS1HInput' %LamS1H\n",
    "    xdict.blocks['MINPAR'].entries[6]='%.7E    # LamS2HInput' %LamS2H\n",
    "    xdict.blocks['MINPAR'].entries[7]='%.7E    # LamSPHInput' %LamSPH\n",
    "    xdict.blocks['MINPAR'].entries[8]='%.7E    # LamSInput' %LamS\n",
    "    xdict.blocks['MINPAR'].entries[9]='%.7E    # LamSPInput' %LamSP\n",
    "    xdict.blocks['MINPAR'].entries[10]='%.7E    # vSInput' %vS\n",
    "    xdict.blocks['MINPAR'].entries[11]='%.7E    # YRDInput' %YRD\n",
    "    xdict.blocks['MINPAR'].entries[12]='%.7E    # YRCInput' %YRC\n",
    "    \n",
    "    # Add to the LesHouches file \n",
    "    xdict.blocks['YRA1IN'].entries[1]='%.6E    # YRA1(1)' %a11  \n",
    "    xdict.blocks['YRA1IN'].entries[2]='%.6E    # YRA1(2)' %a21    \n",
    "    xdict.blocks['YRA1IN'].entries[3]='%.6E    # YRA1(3)' %a31 \n",
    "    \n",
    "    xdict.blocks['YRA2IN'].entries[1]='%.6E    # YRA2(1)' %a12  \n",
    "    xdict.blocks['YRA2IN'].entries[2]='%.6E    # YRA2(2)' %a22     \n",
    "    xdict.blocks['YRA2IN'].entries[3]='%.6E    # YRA2(3)' %a32     \n",
    "    \n",
    "    xdict.blocks['YRB1IN'].entries[1]='%.6E    # YRB1(1)' %b11  \n",
    "    xdict.blocks['YRB1IN'].entries[2]='%.6E    # YRB1(2)' %b21     \n",
    "    xdict.blocks['YRB1IN'].entries[3]='%.6E    # YRB1(3)' %b31 \n",
    "        \n",
    "    xdict.blocks['YRB2IN'].entries[1]='%.6E    # YRB2(1)' %b12  \n",
    "    xdict.blocks['YRB2IN'].entries[2]='%.6E    # YRB2(2)' %b22     \n",
    "    xdict.blocks['YRB2IN'].entries[3]='%.6E    # YRB2(3)' %b32      \n",
    "    \n",
    "    #Write the Leshouches file\n",
    "    pyslha.writeSLHAFile('LesHouches.in.SDdiracDM_low',xdict)\n",
    "    \n",
    "    #run SPheno\n",
    "    spheno = subprocess.getoutput('../.././SPheno-4.0.3/bin/SPhenoSDdiracDM LesHouches.in.SDdiracDM_low')\n",
    "    SPheno_output = subprocess.getoutput('cat SPheno.spc.SDdiracDM')\n",
    "\n",
    "    ###  Run micromegas and take the relic density. \n",
    "    #mo = subprocess.getoutput('~/Work/micromegas_4.2.5/SDdiracDM/./CalcOmega')\n",
    "    mo = subprocess.getoutput('~/Work/micromegas_4.2.5/SDdiracDM/./CalcOmega_with_DI_Detection') #Full\n",
    "    \n",
    "    if len(mo.split()) == 2:\n",
    "        continue\n",
    "    \n",
    "    Omega = eval(mo.split('Omega h^2=')[1].split()[0])\n",
    "    print(\"n=\",n,\"Omega=\",Omega)\n",
    "    \n",
    "    # Choose Omega at to 3 sigma\n",
    "    '''if Omega > 0.12800:\n",
    "        continue\n",
    "    if Omega < 0.11180:\n",
    "        continue'''\n",
    "    #print(Omega)\n",
    "    \n",
    "    ### Direct Detection: CDM-nucleon cross sections[pb]\n",
    "    PSI = eval(mo.split('CDM-nucleon cross sections[pb]:')[1].split()[2])\n",
    "    PSD = eval(mo.split('CDM-nucleon cross sections[pb]:')[1].split()[4])\n",
    "    NSI = eval(mo.split('CDM-nucleon cross sections[pb]:')[1].split()[7])\n",
    "    NSD = eval(mo.split('CDM-nucleon cross sections[pb]:')[1].split()[9])\n",
    "    ### Indirect Detection: annihilation cross section vcs[cm^3/s]\n",
    "    sv = eval(mo.split('annihilation cross section')[1].split()[0])    \n",
    "    \n",
    "    mh1 = eval(SPheno_output.split('Block MASS')[1].split()[9])\n",
    "    mh2 = eval(SPheno_output.split('Block MASS')[1].split()[13])  \n",
    "    \n",
    "    ##++++++++++ Neutrinos +++++++++++++++++++++++++++++++++\n",
    "    if SPheno_output.split('# Fe_3')[1].split()[1] == \"NaN\":\n",
    "        mv1 = 0.\n",
    "    else: \n",
    "        mv1 = eval(SPheno_output.split('# Fe_3')[1].split()[1])            \n",
    "    mv2 = eval(SPheno_output.split('# Fe_3')[1].split()[5])       \n",
    "    mv3 = eval(SPheno_output.split('# Fe_3')[1].split()[9])    \n",
    "    \n",
    "    mS1 = eval(SPheno_output.split('# Fe_3')[1].split()[13])\n",
    "    mS2 = eval(SPheno_output.split('# Fe_3')[1].split()[17])\n",
    "\n",
    "    mCha = eval(SPheno_output.split('# Fe_3')[1].split()[21])\n",
    "    mChi1 = eval(SPheno_output.split('# Fe_3')[1].split()[25])\n",
    "    mChi2 = eval(SPheno_output.split('# Fe_3')[1].split()[29])\n",
    "    \n",
    "    XV11 = eval(SPheno_output.split('Block XV')[1].split()[6])\n",
    "    XV12 = eval(SPheno_output.split('Block XV')[1].split()[11])\n",
    "    XV21 = eval(SPheno_output.split('Block XV')[1].split()[16])\n",
    "    XV22 = eval(SPheno_output.split('Block XV')[1].split()[21])\n",
    "    \n",
    "    XU11 = eval(SPheno_output.split('Block XU')[1].split()[6])\n",
    "    XU12 = eval(SPheno_output.split('Block XU')[1].split()[11])\n",
    "    XU21 = eval(SPheno_output.split('Block XU')[1].split()[16])\n",
    "    XU22 = eval(SPheno_output.split('Block XU')[1].split()[21])\n",
    "    vevSM = eval(SPheno_output.split('Block HMIX')[1].split()[6])\n",
    "\n",
    "    ### EWPO\n",
    "    T = eval(SPheno_output.split('Block SPhenoLowEnergy')[1].split()[5])\n",
    "    S = eval(SPheno_output.split('Block SPhenoLowEnergy')[1].split()[11])\n",
    "    U = eval(SPheno_output.split('Block SPhenoLowEnergy')[1].split()[17])\n",
    "    ### LFV\n",
    "    mueg = eval(SPheno_output.split('Block FlavorKitLFV')[1].split()[6])\n",
    "\n",
    "    x.append([MDF,MS12,MS22,LamS1H,LamS2H,LamSPH,LamS,LamSP,vS,YRD,YRC,a11,a21,a31,a12,a22,a32,\\\n",
    "              b11,b21,b31,b12,b22,b32,mh1,mh2,mv3,mv2,mv1,mS1,mS2,mCha,mChi1,mChi2,\\\n",
    "              XV11,XV12,XV21,XV22,XU11,XU12,XU21,XU22,vevSM,Omega,PSI,PSD,NSI,NSD,T,S,U,mueg])\n",
    "    \n",
    "x=np.asarray(x)\n",
    "xd=pd.DataFrame(x,columns=['MDF','MS12','MS22','LamS1H','LamS2H','LamSPH','LamS','LamSP','vS','YRD'\\\n",
    "                           ,'YRC','YRA11','YRA12','YRA13','YRA21','YRA22','YRA23','YRB11','YRB12','YRB13'\\\n",
    "                           ,'YRB21','YRB22','YRB23','mh1','mh2','mv3','mv2','mv1','mS1','mS2','mCha'\\\n",
    "                           ,'mChi1','mChi2','XV11','XV12','XV21','XV22','XU11','XU12','XU21','XU22','vevSM'\\\n",
    "                          ,'Omega','PSI','PSD','NSI','NSD','T','S','U','mueg'])\n",
    "#xd.to_csv('xd_scan3.csv')\n",
    "\n",
    "t4=time.time() \n",
    "print (\"The program spent\", t4-t1, \"s running\",Num,\"times\")   "
   ]
  },
  {
   "cell_type": "markdown",
   "metadata": {},
   "source": [
    "# Good one"
   ]
  },
  {
   "cell_type": "code",
   "execution_count": 79,
   "metadata": {},
   "outputs": [
    {
     "name": "stdout",
     "output_type": "stream",
     "text": [
      "n= 0 Omega= 82.6\n",
      "n= 1 Omega= 366.0\n",
      "n= 2 Omega= 25.5\n",
      "The program spent 5.223223924636841 s running 3 times\n"
     ]
    }
   ],
   "source": [
    "#!/usr/bin/env python\n",
    "\n",
    "import pyslha\n",
    "import pySDdiracDM_LesHouches_generator\n",
    "import numpy as np\n",
    "import pandas as pd\n",
    "import subprocess\n",
    "import time\n",
    "import sys\n",
    "\n",
    "# Tiempo inicial\n",
    "t1=time.time() \n",
    "\n",
    "#Open xdict which is now a <PySLHA Doc: 10 blocks, 0 decays, 0 xsections>\n",
    "xdict = pySDdiracDM_LesHouches_generator.buildSLHAinFile()\n",
    "\n",
    "x=[]\n",
    "\n",
    "#times to run the program. Entry using the keyboard\n",
    "#Num = int(sys.argv[1])\n",
    "Num = 3\n",
    "\n",
    "for n in range(0,Num):\n",
    "\n",
    "    #Random parameters as input  \n",
    "    #BLOCK MINPAR\n",
    "    vevSM = 244.874425\n",
    "    MDF = np.exp(np.random.uniform(np.log(10**(2)),np.log(10**(3))))\n",
    "    MS12 = 8.0E+06\n",
    "    MS22 = 9.0E+06\n",
    "    LamS1H = 0.0E-04\n",
    "    LamS2H = 0.0E-04\n",
    "    LamSPH = 0.0E-04\n",
    "    LamS = 1.0E-04     \n",
    "    LamSP = 1.0E-01    #ms ~ sqrt(2*lambdaS)*vs -> bigg, i.e. mh2 heavier\n",
    "    vS = np.exp(np.random.uniform(np.log(np.sqrt(2)*10**(1)),np.log(np.sqrt(2)*10**(4))))\n",
    "    YRD = 1.0E-01\n",
    "    YRC = 1.0E-01\n",
    "    \n",
    "    ###  NEUTRINO EXPERIMENTAL VALUES ###################################################\n",
    "    #phases of the PMNS matrix and the R \n",
    "    phases1 = np.random.uniform(0.,0.0*np.pi,3) # WARNING! They are in zero\n",
    "    delta = phases1[0]\n",
    "    eta1 = phases1[1]\n",
    "    eta2 = phases1[2]\n",
    "    #light neutrino masses (up 3 sigma range) NH (NO)\n",
    "    #mnu1 = 10**((np.log10(2.5e-3)-np.log10(1e-9))*np.random.uniform(0,1)+np.log10(1e-9))*1e-9 \n",
    "    #Zero in this framework\n",
    "    mnu1 = 1.0e-20\n",
    "    mnu2 = np.sqrt(np.random.uniform(7.05e-5,8.14e-5)*1.0e-18+mnu1**2)\n",
    "    mnu3 = np.sqrt(np.random.uniform(2.41e-3,2.60e-3)*1.0e-18+mnu1**2)\n",
    "    #mixing angles (up 3 sigma range) NH\n",
    "    t12 = np.arcsin(np.sqrt(np.random.uniform(0.273,0.379)))\n",
    "    t23 = np.arcsin(np.sqrt(np.random.uniform(0.445,0.599)))\n",
    "    t13 = np.arcsin(np.sqrt(np.random.uniform(0.0196,0.0241)))\n",
    "    #Building PMNS matrix NH\n",
    "    UM12 = np.array([ [np.cos(t12),np.sin(t12),0.], [-np.sin(t12),np.cos(t12),0.], [0.,0.,1.0] ])\n",
    "    UM13 = np.array([ [np.cos(t13),0.,np.sin(t13)], [0.,1.0,0.], [-np.sin(t13),0.,np.cos(t13)] ])\n",
    "    UM23 = np.array([ [1.0,0.,0.], [0.,np.cos(t23),np.sin(t23)], [0.,-np.sin(t23),np.cos(t23)] ])\n",
    "    Uphases = np.array([ [np.exp(eta1*1j),0.,0.], [0.,np.exp(eta2*1j),0.], [0.,0.,1.0] ])\n",
    "    U=np.dot(UM23,np.dot(UM13,np.dot(UM12,Uphases)))\n",
    "    #Defining the U elementes. readeable\n",
    "    U11 = np.real(U[0,0])\n",
    "    U12 = np.real(U[0,1])\n",
    "    U13 = np.real(U[0,2])\n",
    "    U21 = np.real(U[1,0])\n",
    "    U22 = np.real(U[1,1])\n",
    "    U23 = np.real(U[1,2])\n",
    "    U31 = np.real(U[2,0])\n",
    "    U32 = np.real(U[2,1])\n",
    "    U33 = np.real(U[2,2])\n",
    "    \n",
    "    ### Algoritm to compute LAMBDAi elements\n",
    "    MS1 = np.sqrt(LamS1H*vevSM**2/2.+MS12)\n",
    "    MS2 = np.sqrt(LamS2H*vevSM**2/2.+MS22)\n",
    "    M1 = neutrino_analytic2.MATRIXCHIDIAG(MDF,vS,YRC,YRD)['M1']\n",
    "    M2 = neutrino_analytic2.MATRIXCHIDIAG(MDF,vS,YRC,YRD)['M2']\n",
    "    vv12 = neutrino_analytic2.MATRIXCHIDIAG(MDF,vS,YRC,YRD)['V12']\n",
    "    vv22 = neutrino_analytic2.MATRIXCHIDIAG(MDF,vS,YRC,YRD)['V22']\n",
    "    uu11 = neutrino_analytic2.MATRIXCHIDIAG(MDF,vS,YRC,YRD)['U11']\n",
    "    uu21 = neutrino_analytic2.MATRIXCHIDIAG(MDF,vS,YRC,YRD)['U21']\n",
    "    L1 = neutrino_analytic2.LAMBDA(M1,MS1,vv12,uu11)+ neutrino_analytic2.LAMBDA(M2,MS1,vv22,uu21)\n",
    "    L2 = neutrino_analytic2.LAMBDA(M1,MS2,vv12,uu11)+ neutrino_analytic2.LAMBDA(M2,MS2,vv22,uu21)\n",
    "    \n",
    "    #####  ALGORITM: Particular case(see): inversion-neutrino-matrix.nb ######################\n",
    "    a11 = 0.0\n",
    "    a12 = 0.0 \n",
    "    ### Random -> FREE PARAMETERS\n",
    "    a21 = np.exp(np.random.uniform(np.log(10**(-4)),np.log(10**(0))))\n",
    "    a22 = np.exp(np.random.uniform(np.log(10**(-4)),np.log(10**(0))))\n",
    "    a31 = np.exp(np.random.uniform(np.log(10**(-4)),np.log(10**(0))))    \n",
    "    a32 = np.exp(np.random.uniform(np.log(10**(-4)),np.log(10**(0))))\n",
    "    ### Solved in Mathematica\n",
    "    b11 = -((a32*mnu2*U12 - a22*mnu3*U13)/(a22*a31*L1 - a21*a32*L1))   \n",
    "    b21 = -((a32*mnu2*U22 - a22*mnu3*U23)/(a22*a31*L1 - a21*a32*L1))\n",
    "    b31 = -((a32*mnu2*U32 - a22*mnu3*U33)/(a22*a31*L1 - a21*a32*L1))\n",
    "    b12 = (a31*mnu2*U12 - a21*mnu3*U13)/(a22*a31*L2 - a21*a32*L2)\n",
    "    b22 = (a31*mnu2*U22 - a21*mnu3*U23)/(a22*a31*L2 - a21*a32*L2)\n",
    "    b32 = (a31*mnu2*U32 - a21*mnu3*U33)/(a22*a31*L2 - a21*a32*L2)\n",
    "    \n",
    "    ###  Modify the LesHouches file   \n",
    "    xdict.blocks['MINPAR'].entries[2]='%.7E    # MDFInput' %MDF\n",
    "    xdict.blocks['MINPAR'].entries[3]='%.7E    # MS12Input' %MS12\n",
    "    xdict.blocks['MINPAR'].entries[4]='%.7E    # MS22Input' %MS22\n",
    "    xdict.blocks['MINPAR'].entries[5]='%.7E    # LamS1HInput' %LamS1H\n",
    "    xdict.blocks['MINPAR'].entries[6]='%.7E    # LamS2HInput' %LamS2H\n",
    "    xdict.blocks['MINPAR'].entries[7]='%.7E    # LamSPHInput' %LamSPH\n",
    "    xdict.blocks['MINPAR'].entries[8]='%.7E    # LamSInput' %LamS\n",
    "    xdict.blocks['MINPAR'].entries[9]='%.7E    # LamSPInput' %LamSP\n",
    "    xdict.blocks['MINPAR'].entries[10]='%.7E    # vSInput' %vS\n",
    "    xdict.blocks['MINPAR'].entries[11]='%.7E    # YRDInput' %YRD\n",
    "    xdict.blocks['MINPAR'].entries[12]='%.7E    # YRCInput' %YRC\n",
    "    \n",
    "    ###  Modify the LesHouches file \n",
    "    xdict.blocks['YRA1IN'].entries[1]='%.6E    # YRA1(1)' %a11  \n",
    "    xdict.blocks['YRA1IN'].entries[2]='%.6E    # YRA1(2)' %a21    \n",
    "    xdict.blocks['YRA1IN'].entries[3]='%.6E    # YRA1(3)' %a31     \n",
    "    xdict.blocks['YRA2IN'].entries[1]='%.6E    # YRA2(1)' %a12  \n",
    "    xdict.blocks['YRA2IN'].entries[2]='%.6E    # YRA2(2)' %a22     \n",
    "    xdict.blocks['YRA2IN'].entries[3]='%.6E    # YRA2(3)' %a32        \n",
    "    xdict.blocks['YRB1IN'].entries[1]='%.6E    # YRB1(1)' %b11  \n",
    "    xdict.blocks['YRB1IN'].entries[2]='%.6E    # YRB1(2)' %b21     \n",
    "    xdict.blocks['YRB1IN'].entries[3]='%.6E    # YRB1(3)' %b31 \n",
    "    xdict.blocks['YRB2IN'].entries[1]='%.6E    # YRB2(1)' %b12  \n",
    "    xdict.blocks['YRB2IN'].entries[2]='%.6E    # YRB2(2)' %b22     \n",
    "    xdict.blocks['YRB2IN'].entries[3]='%.6E    # YRB2(3)' %b32      \n",
    "    \n",
    "    ###  Write the Leshouches file\n",
    "    pyslha.writeSLHAFile('LesHouches.in.SDdiracDM_low',xdict)\n",
    "    \n",
    "    ### Run SPheno\n",
    "    spheno = subprocess.getoutput('../.././SPheno-4.0.3/bin/SPhenoSDdiracDM LesHouches.in.SDdiracDM_low')\n",
    "    SPheno_output = subprocess.getoutput('cat SPheno.spc.SDdiracDM')\n",
    "    \n",
    "    ###  Run micromegas and take the relic density. \n",
    "    #mo = subprocess.getoutput('~/Work/micromegas_4.2.5/SDdiracDM/./CalcOmega')\n",
    "    mo = subprocess.getoutput('~/Work/micromegas_4.2.5/SDdiracDM/./CalcOmega_with_DI_Detection') #Full\n",
    "    \n",
    "    if len(mo.split()) == 2:\n",
    "        continue\n",
    "    \n",
    "    Omega = eval(mo.split('Omega h^2=')[1].split()[0])\n",
    "    print(\"n=\",n,\"Omega=\",Omega)\n",
    "    \n",
    "    # Choose Omega at to 3 sigma\n",
    "    '''if Omega > 0.12800:\n",
    "        continue\n",
    "    if Omega < 0.11180:\n",
    "        continue'''\n",
    "    #print(Omega)\n",
    "    \n",
    "    ### Direct Detection: CDM-nucleon cross sections[pb]\n",
    "    PSI = eval(mo.split('CDM-nucleon cross sections[pb]:')[1].split()[2])\n",
    "    PSD = eval(mo.split('CDM-nucleon cross sections[pb]:')[1].split()[4])\n",
    "    NSI = eval(mo.split('CDM-nucleon cross sections[pb]:')[1].split()[7])\n",
    "    NSD = eval(mo.split('CDM-nucleon cross sections[pb]:')[1].split()[9])\n",
    "    ### Indirect Detection: annihilation cross section vcs[cm^3/s]\n",
    "    sv = eval(mo.split('annihilation cross section')[1].split()[0])\n",
    "    \n",
    "    mh1 = eval(SPheno_output.split('Block MASS')[1].split()[9])\n",
    "    mh2 = eval(SPheno_output.split('Block MASS')[1].split()[13])  \n",
    "    \n",
    "    ##++++++++++ Neutrinos +++++++++++++++++++++++++++++++++\n",
    "    if SPheno_output.split('# Fe_3')[1].split()[1] == \"NaN\":\n",
    "        mv1 = 0.\n",
    "    else: \n",
    "        mv1 = eval(SPheno_output.split('# Fe_3')[1].split()[1])            \n",
    "    mv2 = eval(SPheno_output.split('# Fe_3')[1].split()[5])       \n",
    "    mv3 = eval(SPheno_output.split('# Fe_3')[1].split()[9])    \n",
    "    \n",
    "    mS1 = eval(SPheno_output.split('# Fe_3')[1].split()[13])\n",
    "    mS2 = eval(SPheno_output.split('# Fe_3')[1].split()[17])\n",
    "    mCha = eval(SPheno_output.split('# Fe_3')[1].split()[21])\n",
    "    mChi1 = eval(SPheno_output.split('# Fe_3')[1].split()[25])\n",
    "    mChi2 = eval(SPheno_output.split('# Fe_3')[1].split()[29])    \n",
    "    XV11 = eval(SPheno_output.split('Block XV')[1].split()[6])\n",
    "    XV12 = eval(SPheno_output.split('Block XV')[1].split()[11])\n",
    "    XV21 = eval(SPheno_output.split('Block XV')[1].split()[16])\n",
    "    XV22 = eval(SPheno_output.split('Block XV')[1].split()[21])\n",
    "    XU11 = eval(SPheno_output.split('Block XU')[1].split()[6])\n",
    "    XU12 = eval(SPheno_output.split('Block XU')[1].split()[11])\n",
    "    XU21 = eval(SPheno_output.split('Block XU')[1].split()[16])\n",
    "    XU22 = eval(SPheno_output.split('Block XU')[1].split()[21])\n",
    "    vevSM = eval(SPheno_output.split('Block HMIX')[1].split()[6])\n",
    "    \n",
    "    ### EWPO\n",
    "    T = eval(SPheno_output.split('Block SPhenoLowEnergy')[1].split()[5])\n",
    "    S = eval(SPheno_output.split('Block SPhenoLowEnergy')[1].split()[11])\n",
    "    U = eval(SPheno_output.split('Block SPhenoLowEnergy')[1].split()[17])\n",
    "    ### LFV\n",
    "    mueg = eval(SPheno_output.split('Block FlavorKitLFV')[1].split()[6])\n",
    "\n",
    "    x.append([MDF,MS12,MS22,LamS1H,LamS2H,LamSPH,LamS,LamSP,vS,YRD,YRC,a11,a21,a31,a12,a22,a32,\\\n",
    "              b11,b21,b31,b12,b22,b32,mh1,mh2,mv3,mv2,mv1,mS1,mS2,mCha,mChi1,mChi2,\\\n",
    "              XV11,XV12,XV21,XV22,XU11,XU12,XU21,XU22,vevSM,Omega,PSI,PSD,NSI,NSD,T,S,U,mueg])\n",
    "    \n",
    "x=np.asarray(x)\n",
    "xd=pd.DataFrame(x,columns=['MDF','MS12','MS22','LamS1H','LamS2H','LamSPH','LamS','LamSP','vS','YRD'\\\n",
    "                           ,'YRC','YRA11','YRA12','YRA13','YRA21','YRA22','YRA23','YRB11','YRB12','YRB13'\\\n",
    "                           ,'YRB21','YRB22','YRB23','mh1','mh2','mv3','mv2','mv1','mS1','mS2','mCha'\\\n",
    "                           ,'mChi1','mChi2','XV11','XV12','XV21','XV22','XU11','XU12','XU21','XU22','vevSM'\\\n",
    "                          ,'Omega','PSI','PSD','NSI','NSD','T','S','U','mueg'])\n",
    "#xd.to_csv('xd_scan3.csv')\n",
    "\n",
    "t4=time.time() \n",
    "print (\"The program spent\", t4-t1, \"s running\",Num,\"times\")    "
   ]
  },
  {
   "cell_type": "code",
   "execution_count": 80,
   "metadata": {},
   "outputs": [
    {
     "data": {
      "text/html": [
       "<div>\n",
       "<style scoped>\n",
       "    .dataframe tbody tr th:only-of-type {\n",
       "        vertical-align: middle;\n",
       "    }\n",
       "\n",
       "    .dataframe tbody tr th {\n",
       "        vertical-align: top;\n",
       "    }\n",
       "\n",
       "    .dataframe thead th {\n",
       "        text-align: right;\n",
       "    }\n",
       "</style>\n",
       "<table border=\"1\" class=\"dataframe\">\n",
       "  <thead>\n",
       "    <tr style=\"text-align: right;\">\n",
       "      <th></th>\n",
       "      <th>MDF</th>\n",
       "      <th>MS12</th>\n",
       "      <th>MS22</th>\n",
       "      <th>LamS1H</th>\n",
       "      <th>LamS2H</th>\n",
       "      <th>LamSPH</th>\n",
       "      <th>LamS</th>\n",
       "      <th>LamSP</th>\n",
       "      <th>vS</th>\n",
       "      <th>YRD</th>\n",
       "      <th>...</th>\n",
       "      <th>vevSM</th>\n",
       "      <th>Omega</th>\n",
       "      <th>PSI</th>\n",
       "      <th>PSD</th>\n",
       "      <th>NSI</th>\n",
       "      <th>NSD</th>\n",
       "      <th>T</th>\n",
       "      <th>S</th>\n",
       "      <th>U</th>\n",
       "      <th>mueg</th>\n",
       "    </tr>\n",
       "  </thead>\n",
       "  <tbody>\n",
       "    <tr>\n",
       "      <th>0</th>\n",
       "      <td>339.068294</td>\n",
       "      <td>8000000.0</td>\n",
       "      <td>9000000.0</td>\n",
       "      <td>0.0</td>\n",
       "      <td>0.0</td>\n",
       "      <td>0.0</td>\n",
       "      <td>0.0001</td>\n",
       "      <td>0.1</td>\n",
       "      <td>2116.827442</td>\n",
       "      <td>0.1</td>\n",
       "      <td>...</td>\n",
       "      <td>244.874425</td>\n",
       "      <td>82.6</td>\n",
       "      <td>1.035000e-09</td>\n",
       "      <td>1.049000e-07</td>\n",
       "      <td>4.141000e-08</td>\n",
       "      <td>8.021000e-08</td>\n",
       "      <td>-0.000010</td>\n",
       "      <td>0.000162</td>\n",
       "      <td>0.000694</td>\n",
       "      <td>0.0</td>\n",
       "    </tr>\n",
       "    <tr>\n",
       "      <th>1</th>\n",
       "      <td>264.498058</td>\n",
       "      <td>8000000.0</td>\n",
       "      <td>9000000.0</td>\n",
       "      <td>0.0</td>\n",
       "      <td>0.0</td>\n",
       "      <td>0.0</td>\n",
       "      <td>0.0001</td>\n",
       "      <td>0.1</td>\n",
       "      <td>195.458082</td>\n",
       "      <td>0.1</td>\n",
       "      <td>...</td>\n",
       "      <td>244.871286</td>\n",
       "      <td>366.0</td>\n",
       "      <td>6.993000e-10</td>\n",
       "      <td>1.640000e-07</td>\n",
       "      <td>3.010000e-08</td>\n",
       "      <td>1.254000e-07</td>\n",
       "      <td>0.038781</td>\n",
       "      <td>0.070298</td>\n",
       "      <td>-0.001055</td>\n",
       "      <td>0.0</td>\n",
       "    </tr>\n",
       "    <tr>\n",
       "      <th>2</th>\n",
       "      <td>153.207575</td>\n",
       "      <td>8000000.0</td>\n",
       "      <td>9000000.0</td>\n",
       "      <td>0.0</td>\n",
       "      <td>0.0</td>\n",
       "      <td>0.0</td>\n",
       "      <td>0.0001</td>\n",
       "      <td>0.1</td>\n",
       "      <td>252.372076</td>\n",
       "      <td>0.1</td>\n",
       "      <td>...</td>\n",
       "      <td>244.872268</td>\n",
       "      <td>25.5</td>\n",
       "      <td>6.716000e-09</td>\n",
       "      <td>1.505000e-06</td>\n",
       "      <td>2.882000e-07</td>\n",
       "      <td>1.151000e-06</td>\n",
       "      <td>0.028134</td>\n",
       "      <td>0.044925</td>\n",
       "      <td>0.002011</td>\n",
       "      <td>0.0</td>\n",
       "    </tr>\n",
       "  </tbody>\n",
       "</table>\n",
       "<p>3 rows × 51 columns</p>\n",
       "</div>"
      ],
      "text/plain": [
       "          MDF       MS12       MS22  LamS1H  LamS2H  LamSPH    LamS  LamSP  \\\n",
       "0  339.068294  8000000.0  9000000.0     0.0     0.0     0.0  0.0001    0.1   \n",
       "1  264.498058  8000000.0  9000000.0     0.0     0.0     0.0  0.0001    0.1   \n",
       "2  153.207575  8000000.0  9000000.0     0.0     0.0     0.0  0.0001    0.1   \n",
       "\n",
       "            vS  YRD  ...        vevSM  Omega           PSI           PSD  \\\n",
       "0  2116.827442  0.1  ...   244.874425   82.6  1.035000e-09  1.049000e-07   \n",
       "1   195.458082  0.1  ...   244.871286  366.0  6.993000e-10  1.640000e-07   \n",
       "2   252.372076  0.1  ...   244.872268   25.5  6.716000e-09  1.505000e-06   \n",
       "\n",
       "            NSI           NSD         T         S         U  mueg  \n",
       "0  4.141000e-08  8.021000e-08 -0.000010  0.000162  0.000694   0.0  \n",
       "1  3.010000e-08  1.254000e-07  0.038781  0.070298 -0.001055   0.0  \n",
       "2  2.882000e-07  1.151000e-06  0.028134  0.044925  0.002011   0.0  \n",
       "\n",
       "[3 rows x 51 columns]"
      ]
     },
     "execution_count": 80,
     "metadata": {},
     "output_type": "execute_result"
    }
   ],
   "source": [
    "xd"
   ]
  },
  {
   "cell_type": "code",
   "execution_count": 69,
   "metadata": {},
   "outputs": [],
   "source": [
    "### EWPO\n",
    "T = eval(SPheno_output.split('Block SPhenoLowEnergy')[1].split()[5])\n",
    "S = eval(SPheno_output.split('Block SPhenoLowEnergy')[1].split()[11])\n",
    "U = eval(SPheno_output.split('Block SPhenoLowEnergy')[1].split()[17])\n",
    "### LFV\n",
    "mueg = eval(SPheno_output.split('Block FlavorKitLFV')[1].split()[6])"
   ]
  },
  {
   "cell_type": "code",
   "execution_count": 77,
   "metadata": {},
   "outputs": [],
   "source": [
    "mueg = eval(SPheno_output.split('Block FlavorKitLFV')[1].split()[6])"
   ]
  },
  {
   "cell_type": "code",
   "execution_count": 78,
   "metadata": {},
   "outputs": [
    {
     "name": "stdout",
     "output_type": "stream",
     "text": [
      "0.0\n"
     ]
    }
   ],
   "source": [
    "print(mueg)"
   ]
  },
  {
   "cell_type": "code",
   "execution_count": 12,
   "metadata": {},
   "outputs": [
    {
     "data": {
      "text/html": [
       "<div>\n",
       "<style scoped>\n",
       "    .dataframe tbody tr th:only-of-type {\n",
       "        vertical-align: middle;\n",
       "    }\n",
       "\n",
       "    .dataframe tbody tr th {\n",
       "        vertical-align: top;\n",
       "    }\n",
       "\n",
       "    .dataframe thead th {\n",
       "        text-align: right;\n",
       "    }\n",
       "</style>\n",
       "<table border=\"1\" class=\"dataframe\">\n",
       "  <thead>\n",
       "    <tr style=\"text-align: right;\">\n",
       "      <th></th>\n",
       "      <th>YRA11</th>\n",
       "      <th>YRA12</th>\n",
       "      <th>YRA13</th>\n",
       "      <th>YRA21</th>\n",
       "      <th>YRA22</th>\n",
       "      <th>YRA23</th>\n",
       "      <th>YRB11</th>\n",
       "      <th>YRB12</th>\n",
       "      <th>YRB13</th>\n",
       "      <th>YRB21</th>\n",
       "      <th>YRB22</th>\n",
       "      <th>YRB23</th>\n",
       "      <th>mChi1</th>\n",
       "      <th>Omega</th>\n",
       "    </tr>\n",
       "  </thead>\n",
       "  <tbody>\n",
       "    <tr>\n",
       "      <th>0</th>\n",
       "      <td>0.0</td>\n",
       "      <td>0.061429</td>\n",
       "      <td>0.000643</td>\n",
       "      <td>0.0</td>\n",
       "      <td>0.009899</td>\n",
       "      <td>0.000385</td>\n",
       "      <td>0.000002</td>\n",
       "      <td>0.000012</td>\n",
       "      <td>0.000011</td>\n",
       "      <td>-1.594615e-05</td>\n",
       "      <td>-8.176441e-05</td>\n",
       "      <td>-7.663051e-05</td>\n",
       "      <td>129.416323</td>\n",
       "      <td>5.08</td>\n",
       "    </tr>\n",
       "    <tr>\n",
       "      <th>1</th>\n",
       "      <td>0.0</td>\n",
       "      <td>0.003774</td>\n",
       "      <td>0.026732</td>\n",
       "      <td>0.0</td>\n",
       "      <td>0.000208</td>\n",
       "      <td>0.605588</td>\n",
       "      <td>-0.000003</td>\n",
       "      <td>-0.000003</td>\n",
       "      <td>0.000003</td>\n",
       "      <td>9.880860e-08</td>\n",
       "      <td>5.880462e-09</td>\n",
       "      <td>-2.780464e-07</td>\n",
       "      <td>21.470745</td>\n",
       "      <td>855.00</td>\n",
       "    </tr>\n",
       "  </tbody>\n",
       "</table>\n",
       "</div>"
      ],
      "text/plain": [
       "   YRA11     YRA12     YRA13  YRA21     YRA22     YRA23     YRB11     YRB12  \\\n",
       "0    0.0  0.061429  0.000643    0.0  0.009899  0.000385  0.000002  0.000012   \n",
       "1    0.0  0.003774  0.026732    0.0  0.000208  0.605588 -0.000003 -0.000003   \n",
       "\n",
       "      YRB13         YRB21         YRB22         YRB23       mChi1   Omega  \n",
       "0  0.000011 -1.594615e-05 -8.176441e-05 -7.663051e-05  129.416323    5.08  \n",
       "1  0.000003  9.880860e-08  5.880462e-09 -2.780464e-07   21.470745  855.00  "
      ]
     },
     "execution_count": 12,
     "metadata": {},
     "output_type": "execute_result"
    }
   ],
   "source": [
    "xd[['YRA11','YRA12','YRA13','YRA21','YRA22','YRA23','YRB11','YRB12','YRB13','YRB21','YRB22','YRB23','mChi1','Omega']][:3]"
   ]
  },
  {
   "cell_type": "code",
   "execution_count": 55,
   "metadata": {},
   "outputs": [
    {
     "name": "stdout",
     "output_type": "stream",
     "text": [
      "Experimental values   : 8.812362432509597e-12 4.9460234968788695e-11\n",
      " \n",
      "Inversion-SPHENO      : 8.81235978e-12 4.94602153e-11\n"
     ]
    }
   ],
   "source": [
    "print(\"Experimental values   :\",mnu2, mnu3)\n",
    "print(\" \")\n",
    "print(\"Inversion-SPHENO      :\",mv2,  mv3)"
   ]
  },
  {
   "cell_type": "code",
   "execution_count": 56,
   "metadata": {},
   "outputs": [
    {
     "name": "stdout",
     "output_type": "stream",
     "text": [
      "RUTINE:  40.48622 713.72704\n",
      "SPEHENO: 40.48622 713.72704\n"
     ]
    }
   ],
   "source": [
    "print(\"RUTINE: \",'%.5f' %M1, '%.5f' %M2)\n",
    "#\n",
    "print(\"SPEHENO:\",'%.5f' %mChi1 , '%.5f' %mChi2)"
   ]
  },
  {
   "cell_type": "code",
   "execution_count": null,
   "metadata": {},
   "outputs": [],
   "source": [
    "'''\n",
    "(xd.YRB11*L1*xd.YRA11+xd.YRB21*L2*xd.YRA21)+(xd.YRB12*L1*xd.YRA11+xd.YRB22*L2*xd.YRA21)\\\n",
    "+(xd.YRB13*L1*xd.YRA11+xd.YRB23*L2*xd.YRA21)\n",
    "'''"
   ]
  },
  {
   "cell_type": "markdown",
   "metadata": {},
   "source": [
    "# Analytical diagonalization rutine for Neutrino mass matriz"
   ]
  },
  {
   "cell_type": "code",
   "execution_count": 39,
   "metadata": {},
   "outputs": [
    {
     "data": {
      "image/png": "[encoded data removed]",
      "text/plain": [
       "<IPython.core.display.Image object>"
      ]
     },
     "execution_count": 39,
     "metadata": {
      "image/png": {
       "width": 500
      }
     },
     "output_type": "execute_result"
    }
   ],
   "source": [
    "from IPython.display import Image\n",
    "Image(\"/home/anferivera/Dropbox/SingletDoubletDirac/draft_SDdiracDM/figures/neutrino-GB.png\", width=500)"
   ]
  },
  {
   "cell_type": "markdown",
   "metadata": {},
   "source": [
    "TWO DIRAC FERMIONS IN THE LOOP:\n",
    "\n",
    "\\begin{align}\n",
    "\\mathcal{M}_{\\alpha\\beta}= \\sum_{i=1}^2\\sum_{k=1}^2\n",
    "\\dfrac{V_{k2}U_{k1}}{16\\pi^2}\n",
    "\\times b_{\\alpha i} a_{\\beta i} m_{N_k} \n",
    "\\times \\left[\\dfrac{m_{N_k}^2}{\\left(m_{N_k}^2-m_{S_i}^2\\right)}\\ln{\\left(\\dfrac{m_{N_k}^2}{m_{S_i}^2}\\right)}\\right]\\,.\n",
    "\\end{align}"
   ]
  },
  {
   "cell_type": "markdown",
   "metadata": {},
   "source": [
    "Import the analytical rutine for compute the $\\mathcal{M}_{\\alpha\\beta}$ version two"
   ]
  },
  {
   "cell_type": "markdown",
   "metadata": {},
   "source": [
    "Example:"
   ]
  },
  {
   "cell_type": "code",
   "execution_count": 17,
   "metadata": {},
   "outputs": [],
   "source": [
    "#Add to the DataFrame\n",
    "xd['mn1'] = neutrino_analytic2.MatrixDiag_new(xd.YRB11,xd.YRB12,xd.YRB13,xd.YRB21,xd.YRB22,xd.YRB23,\\\n",
    "   xd.YRA11,xd.YRA12,xd.YRA13,xd.YRA21,xd.YRA22,xd.YRA23,xd.mS1,xd.mS2,xd.MDF,xd.vS,xd.YRC,xd.YRD,xd.vevSM)[0]\n",
    "xd['mn2'] = neutrino_analytic2.MatrixDiag_new(xd.YRB11,xd.YRB12,xd.YRB13,xd.YRB21,xd.YRB22,xd.YRB23,\\\n",
    "   xd.YRA11,xd.YRA12,xd.YRA13,xd.YRA21,xd.YRA22,xd.YRA23,xd.mS1,xd.mS2,xd.MDF,xd.vS,xd.YRC,xd.YRD,xd.vevSM)[1]\n",
    "xd['mn3'] = neutrino_analytic2.MatrixDiag_new(xd.YRB11,xd.YRB12,xd.YRB13,xd.YRB21,xd.YRB22,xd.YRB23,\\\n",
    "   xd.YRA11,xd.YRA12,xd.YRA13,xd.YRA21,xd.YRA22,xd.YRA23,xd.mS1,xd.mS2,xd.MDF,xd.vS,xd.YRC,xd.YRD,xd.vevSM)[2]"
   ]
  },
  {
   "cell_type": "code",
   "execution_count": 18,
   "metadata": {},
   "outputs": [
    {
     "data": {
      "text/html": [
       "<div>\n",
       "<style scoped>\n",
       "    .dataframe tbody tr th:only-of-type {\n",
       "        vertical-align: middle;\n",
       "    }\n",
       "\n",
       "    .dataframe tbody tr th {\n",
       "        vertical-align: top;\n",
       "    }\n",
       "\n",
       "    .dataframe thead th {\n",
       "        text-align: right;\n",
       "    }\n",
       "</style>\n",
       "<table border=\"1\" class=\"dataframe\">\n",
       "  <thead>\n",
       "    <tr style=\"text-align: right;\">\n",
       "      <th></th>\n",
       "      <th>mv1</th>\n",
       "      <th>mn1</th>\n",
       "      <th>mv2</th>\n",
       "      <th>mn2</th>\n",
       "      <th>mv3</th>\n",
       "      <th>mn3</th>\n",
       "    </tr>\n",
       "  </thead>\n",
       "  <tbody>\n",
       "    <tr>\n",
       "      <th>0</th>\n",
       "      <td>2.873742e-19</td>\n",
       "      <td>4.336809e-19</td>\n",
       "      <td>8.880368e-12</td>\n",
       "      <td>8.880370e-12</td>\n",
       "      <td>5.093425e-11</td>\n",
       "      <td>5.093425e-11</td>\n",
       "    </tr>\n",
       "    <tr>\n",
       "      <th>1</th>\n",
       "      <td>3.911844e-19</td>\n",
       "      <td>4.336809e-19</td>\n",
       "      <td>8.573226e-12</td>\n",
       "      <td>8.573224e-12</td>\n",
       "      <td>5.080444e-11</td>\n",
       "      <td>5.080445e-11</td>\n",
       "    </tr>\n",
       "    <tr>\n",
       "      <th>2</th>\n",
       "      <td>3.440829e-19</td>\n",
       "      <td>0.000000e+00</td>\n",
       "      <td>8.700700e-12</td>\n",
       "      <td>8.700705e-12</td>\n",
       "      <td>4.956507e-11</td>\n",
       "      <td>4.956505e-11</td>\n",
       "    </tr>\n",
       "  </tbody>\n",
       "</table>\n",
       "</div>"
      ],
      "text/plain": [
       "            mv1           mn1           mv2           mn2           mv3  \\\n",
       "0  2.873742e-19  4.336809e-19  8.880368e-12  8.880370e-12  5.093425e-11   \n",
       "1  3.911844e-19  4.336809e-19  8.573226e-12  8.573224e-12  5.080444e-11   \n",
       "2  3.440829e-19  0.000000e+00  8.700700e-12  8.700705e-12  4.956507e-11   \n",
       "\n",
       "            mn3  \n",
       "0  5.093425e-11  \n",
       "1  5.080445e-11  \n",
       "2  4.956505e-11  "
      ]
     },
     "execution_count": 18,
     "metadata": {},
     "output_type": "execute_result"
    }
   ],
   "source": [
    "##WARNING: The vev change in SPheno\n",
    "xd[['mv1','mn1','mv2','mn2','mv3','mn3']][:3]"
   ]
  },
  {
   "cell_type": "markdown",
   "metadata": {},
   "source": [
    "# PLOTS"
   ]
  },
  {
   "cell_type": "code",
   "execution_count": 19,
   "metadata": {},
   "outputs": [],
   "source": [
    "#good plots\n",
    "plt.rcParams.update({'font.size': 20}) \n",
    "#plt.rc('font',size='18')"
   ]
  },
  {
   "cell_type": "code",
   "execution_count": 20,
   "metadata": {},
   "outputs": [
    {
     "name": "stdout",
     "output_type": "stream",
     "text": [
      "0.1197 0.1131 0.1263\n"
     ]
    }
   ],
   "source": [
    "#Experimental values for DM: Planck results 2015\n",
    "e = 3\n",
    "Omega = 0.1197\n",
    "Omega_max=Omega + e*0.0022\n",
    "Omega_min=Omega - e*0.0022\n",
    "print (Omega, Omega_min,Omega_max)\n",
    "# out: (0.1197, 0.1131, 0.1263)"
   ]
  },
  {
   "cell_type": "code",
   "execution_count": 23,
   "metadata": {},
   "outputs": [
    {
     "data": {
      "image/png": "[encoded data removed]",
      "text/plain": [
       "<Figure size 576x432 with 1 Axes>"
      ]
     },
     "metadata": {
      "needs_background": "light"
     },
     "output_type": "display_data"
    }
   ],
   "source": [
    "plt.figure(figsize=(8,6))\n",
    "\n",
    "plt.loglog(xd.mChi1,xd.Omega,'ro')\n",
    "plt.hlines(Omega,10,1e3, 'b',label=r'0.11')\n",
    "\n",
    "#plt.legend(prop={'size':15},loc='best')\n",
    "plt.xlabel(r'$m_{\\chi^0}$(GeV)',size=25)\n",
    "plt.ylabel(r'$\\Omega$',size=25)\n",
    "#plt.xlim(10,5e3)\n",
    "#plt.ylim(11.2e-2,1.3e-1)\n",
    "\n",
    "plt.show()"
   ]
  },
  {
   "cell_type": "markdown",
   "metadata": {},
   "source": [
    "cuts"
   ]
  },
  {
   "cell_type": "code",
   "execution_count": 24,
   "metadata": {},
   "outputs": [],
   "source": [
    "x1 = xd[np.logical_and(np.abs(xd.mChi1 -xd.mChi2)<20., 1>0)]\n",
    "x2 = xd[np.logical_and(np.abs(xd.mChi1 -xd.mChi2)>200., 1>0)]"
   ]
  },
  {
   "cell_type": "markdown",
   "metadata": {},
   "source": [
    "Maximun values: Some elements tend to be small"
   ]
  },
  {
   "cell_type": "code",
   "execution_count": 32,
   "metadata": {},
   "outputs": [
    {
     "name": "stdout",
     "output_type": "stream",
     "text": [
      "0.001293436494148477 0.0035754592404710116 0.0032083841460740672\n",
      "0.0006982424946785817 0.0006619214318543954 0.0009216377509440731\n"
     ]
    }
   ],
   "source": [
    "print(np.abs(xd.YRB11).max(),np.abs(xd.YRB12).max(),np.abs(xd.YRB13).max())\n",
    "print(np.abs(xd.YRB21).max(),np.abs(xd.YRB22).max(),np.abs(xd.YRB23).max())"
   ]
  },
  {
   "cell_type": "code",
   "execution_count": null,
   "metadata": {},
   "outputs": [],
   "source": []
  },
  {
   "cell_type": "code",
   "execution_count": 34,
   "metadata": {},
   "outputs": [
    {
     "data": {
      "image/png": "[encoded data removed]",
      "text/plain": [
       "<Figure size 576x432 with 1 Axes>"
      ]
     },
     "metadata": {
      "needs_background": "light"
     },
     "output_type": "display_data"
    }
   ],
   "source": [
    "plt.figure(figsize=(8,6))\n",
    "\n",
    "plt.loglog(xd.mChi1,xd.Omega,'ro')\n",
    "plt.loglog(x1.mChi1,x1.Omega,'bo',label=r'$\\Delta M_{\\chi} < 20$ GeV')\n",
    "plt.loglog(x2.mChi1,x2.Omega,'bo',label=r'$\\Delta M_{\\chi} > 200$ GeV')\n",
    "plt.hlines(Omega,10,1e3, 'c',label=r'0.11')\n",
    "\n",
    "plt.legend(prop={'size':15},loc='best')\n",
    "plt.xlabel(r'$m_{\\chi^0}$(GeV)',size=25)\n",
    "plt.ylabel(r'$\\Omega$',size=25)\n",
    "\n",
    "plt.show()"
   ]
  },
  {
   "cell_type": "code",
   "execution_count": 35,
   "metadata": {},
   "outputs": [
    {
     "data": {
      "text/plain": [
       "[<matplotlib.lines.Line2D at 0x7f7a49e9e208>]"
      ]
     },
     "execution_count": 35,
     "metadata": {},
     "output_type": "execute_result"
    },
    {
     "data": {
      "image/png": "[encoded data removed]",
      "text/plain": [
       "<Figure size 432x288 with 1 Axes>"
      ]
     },
     "metadata": {
      "needs_background": "light"
     },
     "output_type": "display_data"
    }
   ],
   "source": [
    "plt.loglog(xd.mChi1,xd.mh2/xd.mh1,'r.')"
   ]
  },
  {
   "cell_type": "code",
   "execution_count": 39,
   "metadata": {},
   "outputs": [],
   "source": [
    "xDM1 = xd[np.logical_and(xd.Omega>Omega_max, 1>0)]"
   ]
  },
  {
   "cell_type": "code",
   "execution_count": 41,
   "metadata": {},
   "outputs": [
    {
     "data": {
      "image/png": "[encoded data removed]",
      "text/plain": [
       "<Figure size 432x288 with 1 Axes>"
      ]
     },
     "metadata": {
      "needs_background": "light"
     },
     "output_type": "display_data"
    }
   ],
   "source": [
    "plt.loglog(xd.mChi1, xd.mChi2,'ro')\n",
    "plt.loglog(xDM1.mChi1, xDM1.mChi2,'b.')\n",
    "\n",
    "plt.show()"
   ]
  },
  {
   "cell_type": "code",
   "execution_count": null,
   "metadata": {},
   "outputs": [],
   "source": []
  }
 ],
 "metadata": {
  "kernelspec": {
   "display_name": "Python 3",
   "language": "python",
   "name": "python3"
  },
  "language_info": {
   "codemirror_mode": {
    "name": "ipython",
    "version": 3
   },
   "file_extension": ".py",
   "mimetype": "text/x-python",
   "name": "python",
   "nbconvert_exporter": "python",
   "pygments_lexer": "ipython3",
   "version": "3.4.2"
  }
 },
 "nbformat": 4,
 "nbformat_minor": 1
}
