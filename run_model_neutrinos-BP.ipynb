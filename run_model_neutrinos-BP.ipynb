{
 "cells": [
  {
   "cell_type": "markdown",
   "metadata": {},
   "source": [
    "# Roration of no hermitian mass matrices"
   ]
  },
  {
   "cell_type": "markdown",
   "metadata": {},
   "source": [
    "Hermitian term:\n",
    "    \n",
    "$\\mathcal{L}_{\\text{mas}} = \\psi^{\\dagger} M \\psi$\n",
    "$\\to$\n",
    "$M_{\\text{diag}}=U^{-1}MU$\n",
    "\n",
    "No hermitian term:\n",
    " \n",
    "$\\mathcal{L}_{\\text{mas}} = \\psi_R^{\\dagger} M \\psi_L = \\psi_1^{\\dagger} M \\psi_2$\n",
    "$\\to$ $\\color{red}{M_{\\text{diag}}^2=V^{-1}MM^TV = U^{-1}M^TMU}$\n"
   ]
  },
  {
   "cell_type": "markdown",
   "metadata": {},
   "source": [
    "ie. the $V$ and $U$ matricess diagonalize the matrices $MM^T$ and $M^TM$ respectively\n",
    "\n",
    "such that: $\\Psi_1^i=V_{ij}\\psi_1^j$ and $\\Psi_2^i=U_{ij}\\psi_2^j$"
   ]
  },
  {
   "cell_type": "code",
   "execution_count": 1,
   "metadata": {},
   "outputs": [],
   "source": [
    "import numpy as np\n",
    "import pandas as pd\n",
    "import subprocess\n",
    "import time"
   ]
  },
  {
   "cell_type": "code",
   "execution_count": 2,
   "metadata": {},
   "outputs": [],
   "source": [
    "%matplotlib inline\n",
    "import matplotlib.pyplot as plt "
   ]
  },
  {
   "cell_type": "markdown",
   "metadata": {},
   "source": [
    "DM values"
   ]
  },
  {
   "cell_type": "code",
   "execution_count": 3,
   "metadata": {},
   "outputs": [
    {
     "name": "stdout",
     "output_type": "stream",
     "text": [
      "0.1197 0.1131 0.1263\n"
     ]
    }
   ],
   "source": [
    "#Experimental values for DM: Planck results 2015\n",
    "e = 3\n",
    "Omega = 0.1197\n",
    "Omega_max=Omega + e*0.0022\n",
    "Omega_min=Omega - e*0.0022\n",
    "print(Omega, Omega_min,Omega_max)\n",
    "# out: (0.1197, 0.1131, 0.1263)"
   ]
  },
  {
   "cell_type": "markdown",
   "metadata": {},
   "source": [
    "# General scrip"
   ]
  },
  {
   "cell_type": "code",
   "execution_count": 4,
   "metadata": {},
   "outputs": [
    {
     "name": "stdout",
     "output_type": "stream",
     "text": [
      "The program spent 0.9155764579772949 s running 1 times\n"
     ]
    }
   ],
   "source": [
    "#!/usr/bin/env python\n",
    "\n",
    "#Import run_dicctionary.py\n",
    "#This file run a lot of dicctionaryes to run SPheno\n",
    "\n",
    "import pyslha\n",
    "import pySDdiracDM_LesHouches_generator\n",
    "import numpy as np\n",
    "import pandas as pd\n",
    "import subprocess\n",
    "import time\n",
    "import sys\n",
    "\n",
    "# Tiempo inicial\n",
    "t1=time.time() \n",
    "\n",
    "#Open xdict which is now a <PySLHA Doc: 10 blocks, 0 decays, 0 xsections>\n",
    "xdict = pySDdiracDM_LesHouches_generator.buildSLHAinFile()\n",
    "\n",
    "x=[]\n",
    "\n",
    "#times to run the program. Entry using the keyboard\n",
    "#Num = int(sys.argv[1])\n",
    "Num = 1\n",
    "\n",
    "for n in range(0,Num):\n",
    "\n",
    "    #Random parameters as input  \n",
    "    #BLOCK MINPAR\n",
    "    MDF = 236.52147710325588\n",
    "    MS12 = 50680351.35961933\n",
    "    MS22 = 1231839.8617625898\n",
    "    LamS1H = 0.\n",
    "    LamS2H = 0.\n",
    "    LamSPH = 0.\n",
    "    LamS = 0.\n",
    "    LamSP = 0.060737813562248985  \n",
    "    vS = 565.2190822262443\n",
    "    YRD = 0.00012930812095796886\n",
    "    YRC = 0.0110835689775538\n",
    "    \n",
    "    # Modific the LesHouches   \n",
    "    xdict.blocks['MINPAR'].entries[2]='%.7E    # MDFInput' %MDF\n",
    "    xdict.blocks['MINPAR'].entries[3]='%.7E    # MS12Input' %MS12\n",
    "    xdict.blocks['MINPAR'].entries[4]='%.7E    # MS22Input' %MS22\n",
    "    xdict.blocks['MINPAR'].entries[5]='%.7E    # LamS1HInput' %LamS1H\n",
    "    xdict.blocks['MINPAR'].entries[6]='%.7E    # LamS2HInput' %LamS2H\n",
    "    xdict.blocks['MINPAR'].entries[7]='%.7E    # LamSPHInput' %LamSPH\n",
    "    xdict.blocks['MINPAR'].entries[8]='%.7E    # LamSInput' %LamS\n",
    "    xdict.blocks['MINPAR'].entries[9]='%.7E    # LamSPInput' %LamSP\n",
    "    xdict.blocks['MINPAR'].entries[10]='%.7E    # vSInput' %vS\n",
    "    xdict.blocks['MINPAR'].entries[11]='%.7E    # YRDInput' %YRD\n",
    "    xdict.blocks['MINPAR'].entries[12]='%.7E    # YRCInput' %YRC\n",
    "    \n",
    "    YRA11 = 1.500000E-02\n",
    "    YRA12 = 2.000000E-02    \n",
    "    YRA13 = 1.000000E-02\n",
    "    \n",
    "    xdict.blocks['YRA1IN'].entries[1]='%.6E    # YRA1(1)' %YRA11  \n",
    "    xdict.blocks['YRA1IN'].entries[2]='%.6E    # YRA1(2)' %YRA12     \n",
    "    xdict.blocks['YRA1IN'].entries[3]='%.6E    # YRA1(3)' %YRA13 \n",
    "    \n",
    "    YRA21 = 3.500000E-03\n",
    "    YRA22 = 2.000000E-03    \n",
    "    YRA23 = 1.000000E-03\n",
    "    \n",
    "    xdict.blocks['YRA2IN'].entries[1]='%.6E    # YRA2(1)' %YRA21  \n",
    "    xdict.blocks['YRA2IN'].entries[2]='%.6E    # YRA2(2)' %YRA22     \n",
    "    xdict.blocks['YRA2IN'].entries[3]='%.6E    # YRA2(3)' %YRA23     \n",
    "\n",
    "    YRB11 = 1.100000E-04\n",
    "    YRB12 = 3.000000E-03    \n",
    "    YRB13 = 1.100000E-03\n",
    "    \n",
    "    xdict.blocks['YRB1IN'].entries[1]='%.6E    # YRB1(1)' %YRB11  \n",
    "    xdict.blocks['YRB1IN'].entries[2]='%.6E    # YRB1(2)' %YRB12     \n",
    "    xdict.blocks['YRB1IN'].entries[3]='%.6E    # YRB1(3)' %YRB13 \n",
    "    \n",
    "    YRB21 = 1.500000E-04\n",
    "    YRB22 = 3.000000E-03    \n",
    "    YRB23 = 1.100000E-03\n",
    "    \n",
    "    xdict.blocks['YRB2IN'].entries[1]='%.6E    # YRB2(1)' %YRB21  \n",
    "    xdict.blocks['YRB2IN'].entries[2]='%.6E    # YRB2(2)' %YRB22     \n",
    "    xdict.blocks['YRB2IN'].entries[3]='%.6E    # YRB2(3)' %YRB23      \n",
    "    \n",
    "    #Write the Leshouches file\n",
    "    pyslha.writeSLHAFile('LesHouches.in.SDdiracDM_low',xdict)\n",
    "    \n",
    "    #run SPheno\n",
    "    spheno = subprocess.getoutput('../.././SPheno-4.0.3/bin/SPhenoSDdiracDM LesHouches.in.SDdiracDM_low')\n",
    "    SPheno_output = subprocess.getoutput('cat SPheno.spc.SDdiracDM')\n",
    "    \n",
    "    mh1 = eval(SPheno_output.split('Block MASS')[1].split()[9])\n",
    "    mh2 = eval(SPheno_output.split('Block MASS')[1].split()[13])  \n",
    "    \n",
    "    ##++++++++++ Neutrinos +++++++++++++++++++++++++++++++++\n",
    "    if SPheno_output.split('# Fe_3')[1].split()[1] == \"NaN\":\n",
    "        mv1 = 0.\n",
    "    else: \n",
    "        mv1 = eval(SPheno_output.split('# Fe_3')[1].split()[1])            \n",
    "    mv2 = eval(SPheno_output.split('# Fe_3')[1].split()[5])       \n",
    "    mv3 = eval(SPheno_output.split('# Fe_3')[1].split()[9])    \n",
    "    \n",
    "    mS1 = eval(SPheno_output.split('# Fe_3')[1].split()[13])\n",
    "    mS2 = eval(SPheno_output.split('# Fe_3')[1].split()[17])\n",
    "\n",
    "    mCha = eval(SPheno_output.split('# Fe_3')[1].split()[21])\n",
    "    mChi1 = eval(SPheno_output.split('# Fe_3')[1].split()[25])\n",
    "    mChi2 = eval(SPheno_output.split('# Fe_3')[1].split()[29])\n",
    "    \n",
    "    XV11 = eval(SPheno_output.split('Block XV')[1].split()[6])\n",
    "    XV12 = eval(SPheno_output.split('Block XV')[1].split()[11])\n",
    "    XV21 = eval(SPheno_output.split('Block XV')[1].split()[16])\n",
    "    XV22 = eval(SPheno_output.split('Block XV')[1].split()[21])\n",
    "    \n",
    "    XU11 = eval(SPheno_output.split('Block XU')[1].split()[6])\n",
    "    XU12 = eval(SPheno_output.split('Block XU')[1].split()[11])\n",
    "    XU21 = eval(SPheno_output.split('Block XU')[1].split()[16])\n",
    "    XU22 = eval(SPheno_output.split('Block XU')[1].split()[21])\n",
    "\n",
    "    x.append([MDF,MS12,MS22,LamS1H,LamS2H,LamSPH,LamS,LamSP,vS,YRD,YRC,YRA11,YRA12,YRA13,YRA21,YRA22,YRA23,\\\n",
    "              YRB11,YRB12,YRB13,YRB21,YRB22,YRB23,mh1,mh2,mv3,mv2,mv1,mS1,mS2,mCha,mChi1,mChi2,\\\n",
    "              XV11,XV12,XV21,XV22,XU11,XU12,XU21,XU22])\n",
    "    \n",
    "x=np.asarray(x)\n",
    "xd=pd.DataFrame(x,columns=['MDF','MS12','MS22','LamS1H','LamS2H','LamSPH','LamS','LamSP','vS','YRD'\\\n",
    "                           ,'YRC','YRA11','YRA12','YRA13','YRA21','YRA22','YRA23','YRB11','YRB12','YRB13','YRB21'\\\n",
    "                           ,'YRB22','YRB23','mh1','mh2','mv3','mv2','mv1','mS1','mS2','mCha','mChi1','mChi2'\\\n",
    "                          ,'XV11','XV12','XV21','XV22','XU11','XU12','XU21','XU22'])\n",
    "#xd.to_csv('xd_neutrinos.csv')\n",
    "\n",
    "t4=time.time() \n",
    "print (\"The program spent\", t4-t1, \"s running\",Num,\"times\")    "
   ]
  },
  {
   "cell_type": "code",
   "execution_count": 5,
   "metadata": {},
   "outputs": [],
   "source": [
    "#xd=pd.read_csv('xd_neutrinos.csv')"
   ]
  },
  {
   "cell_type": "markdown",
   "metadata": {},
   "source": [
    "# Analytical rutine for Neutrino mass matriz"
   ]
  },
  {
   "cell_type": "code",
   "execution_count": 21,
   "metadata": {},
   "outputs": [
    {
     "data": {
      "image/png": "[encoded data removed]",
      "text/plain": [
       "<IPython.core.display.Image object>"
      ]
     },
     "execution_count": 21,
     "metadata": {
      "image/png": {
       "width": 500
      }
     },
     "output_type": "execute_result"
    }
   ],
   "source": [
    "from IPython.display import Image\n",
    "Image(\"/home/anferivera/Dropbox/SingletDoubletDirac/draft_SDdiracDM/figures/neutrino-GB.png\", width=500)"
   ]
  },
  {
   "cell_type": "markdown",
   "metadata": {},
   "source": [
    "THREE DIRAC FERMIONS IN THE LOOP:\n",
    "\n",
    "\\begin{align}\n",
    "\\mathcal{M}_{\\alpha\\beta}= \\sum_{i=1}^2\\sum_{k=1}^3\n",
    "\\dfrac{V_{k1}U_{k3}}{16\\pi^2}\n",
    "\\times b_{\\alpha i} a_{\\beta i} m_{N_k} \n",
    "\\times \\left[\\dfrac{m_{N_k}^2}{\\left(m_{N_k}^2-m_{S_i}^2\\right)}\\ln{\\left(\\dfrac{m_{N_k}^2}{m_{S_i}^2}\\right)}\\right]\\,.\n",
    "\\end{align}"
   ]
  },
  {
   "cell_type": "markdown",
   "metadata": {},
   "source": [
    "TWO DIRAC FERMIONS IN THE LOOP:\n",
    "\n",
    "\\begin{align}\n",
    "\\mathcal{M}_{\\alpha\\beta}= \\sum_{i=1}^2\\sum_{k=1}^2\n",
    "\\dfrac{V_{k2}U_{k1}}{16\\pi^2}\n",
    "\\times b_{\\alpha i} a_{\\beta i} m_{N_k} \n",
    "\\times \\left[\\dfrac{m_{N_k}^2}{\\left(m_{N_k}^2-m_{S_i}^2\\right)}\\ln{\\left(\\dfrac{m_{N_k}^2}{m_{S_i}^2}\\right)}\\right]\\,.\n",
    "\\end{align}"
   ]
  },
  {
   "cell_type": "code",
   "execution_count": 58,
   "metadata": {},
   "outputs": [],
   "source": [
    "##Matrix mChi diagonal\n",
    "def MATRIXCHIDIAG(MDF,vS,YRC,YRD):    \n",
    "    \n",
    "    dcOut={}\n",
    "    \n",
    "    #Diagonalization of Mchi matrix by the bi-unitary transfortion V and U\n",
    "    vevSM = 244.874425 #Warning\n",
    "    MX0 = np.matrix( [[MDF,vevSM*YRD/np.sqrt(2.)],[0.,vS*YRC/np.sqrt(2.)]])\n",
    "    #squared eigenvalues e eigenvectors for the V MATRIX\n",
    "    (MVdiag2,V)=np.linalg.eig(MX0*np.transpose(MX0))\n",
    "    #squared eigenvalues e eigenvectors for the U MATRIX\n",
    "    (MUdiag2,U)=np.linalg.eig(np.transpose(MX0)*MX0)\n",
    "    \n",
    "    if np.sqrt(np.abs(MVdiag2[0])) < np.sqrt(np.abs(MVdiag2[1])):\n",
    "        \n",
    "        m1=np.sqrt(np.abs(MVdiag2[0]))\n",
    "        m2=np.sqrt(np.abs(MVdiag2[1]))\n",
    "        V11=V[0,0]\n",
    "        V12=V[0,1]\n",
    "        V21=V[1,0]\n",
    "        V22=V[1,1]\n",
    "        U11=U[0,0]\n",
    "        U12=U[0,1]\n",
    "        U21=U[1,0]\n",
    "        U22=U[1,1]\n",
    "        \n",
    "    else:\n",
    "        \n",
    "        m1=np.sqrt(np.abs(MVdiag2[1]))\n",
    "        m2=np.sqrt(np.abs(MVdiag2[0]))\n",
    "        V11=V[1,0]\n",
    "        V12=-V[1,1]\n",
    "        V21=V[0,0]\n",
    "        V22=-V[0,1]\n",
    "        U11=U[1,0]\n",
    "        U12=-U[1,1]\n",
    "        U21=U[0,0]\n",
    "        U22=-U[0,1]\n",
    "    \n",
    "    dcOut['m1']= m1\n",
    "    dcOut['m2']= m2  \n",
    "    dcOut['V11']= V11 \n",
    "    dcOut['V12']= V12 \n",
    "    dcOut['V21']= V21 \n",
    "    dcOut['V22']= V22 \n",
    "    dcOut['U11']= U11 \n",
    "    dcOut['U12']= U12 \n",
    "    dcOut['U21']= U21 \n",
    "    dcOut['U22']= U22 \n",
    "            \n",
    "    return dcOut"
   ]
  },
  {
   "cell_type": "code",
   "execution_count": 59,
   "metadata": {},
   "outputs": [],
   "source": [
    "#Diagonalization of Mchi matrix by the bi-unitary transfortion V and U\n",
    "vevSM = 244.874425 #Warning\n",
    "MX0 = np.matrix( [[xd.MDF[0],vevSM*xd.YRD[0]/np.sqrt(2.)],[0.,xd.vS[0]*xd.YRC[0]/np.sqrt(2.)]])\n",
    "\n",
    "#squared eigenvalues e eigenvectors for the V MATRIX\n",
    "(MVdiag2,V)=np.linalg.eig(MX0*np.transpose(MX0))\n",
    "#squared eigenvalues e eigenvectors for the U MATRIX\n",
    "(MUdiag2,U)=np.linalg.eig(np.transpose(MX0)*MX0)"
   ]
  },
  {
   "cell_type": "code",
   "execution_count": 60,
   "metadata": {},
   "outputs": [
    {
     "name": "stdout",
     "output_type": "stream",
     "text": [
      "236.52147816338862 4.429772718833689\n"
     ]
    }
   ],
   "source": [
    "print(np.sqrt(np.abs(MVdiag2[0])),np.sqrt(np.abs(MVdiag2[1])))"
   ]
  },
  {
   "cell_type": "code",
   "execution_count": 61,
   "metadata": {},
   "outputs": [
    {
     "data": {
      "text/plain": [
       "{'U11': 9.469695439683498e-05,\n",
       " 'U12': -0.9999999955162433,\n",
       " 'U21': 0.9999999955162433,\n",
       " 'U22': 9.469695439683498e-05,\n",
       " 'V11': 1.7735640343587346e-06,\n",
       " 'V12': -0.9999999999984273,\n",
       " 'V21': 0.9999999999984273,\n",
       " 'V22': 1.7735640343587346e-06,\n",
       " 'm1': 4.429772718833689,\n",
       " 'm2': 236.52147816338862}"
      ]
     },
     "execution_count": 61,
     "metadata": {},
     "output_type": "execute_result"
    }
   ],
   "source": [
    "#Got analiticaly\n",
    "MATRIXCHIDIAG(MDF,vS,YRC,YRD)"
   ]
  },
  {
   "cell_type": "code",
   "execution_count": 62,
   "metadata": {},
   "outputs": [
    {
     "data": {
      "text/html": [
       "<div>\n",
       "<style scoped>\n",
       "    .dataframe tbody tr th:only-of-type {\n",
       "        vertical-align: middle;\n",
       "    }\n",
       "\n",
       "    .dataframe tbody tr th {\n",
       "        vertical-align: top;\n",
       "    }\n",
       "\n",
       "    .dataframe thead th {\n",
       "        text-align: right;\n",
       "    }\n",
       "</style>\n",
       "<table border=\"1\" class=\"dataframe\">\n",
       "  <thead>\n",
       "    <tr style=\"text-align: right;\">\n",
       "      <th></th>\n",
       "      <th>XU11</th>\n",
       "      <th>XU12</th>\n",
       "      <th>XU21</th>\n",
       "      <th>XU22</th>\n",
       "      <th>XV11</th>\n",
       "      <th>XV12</th>\n",
       "      <th>XV21</th>\n",
       "      <th>XV22</th>\n",
       "      <th>mChi1</th>\n",
       "      <th>mChi2</th>\n",
       "      <th>MDF</th>\n",
       "    </tr>\n",
       "  </thead>\n",
       "  <tbody>\n",
       "    <tr>\n",
       "      <th>0</th>\n",
       "      <td>0.000095</td>\n",
       "      <td>-1.0</td>\n",
       "      <td>1.0</td>\n",
       "      <td>0.000095</td>\n",
       "      <td>0.000002</td>\n",
       "      <td>-1.0</td>\n",
       "      <td>1.0</td>\n",
       "      <td>0.000002</td>\n",
       "      <td>4.429773</td>\n",
       "      <td>236.521481</td>\n",
       "      <td>236.521477</td>\n",
       "    </tr>\n",
       "  </tbody>\n",
       "</table>\n",
       "</div>"
      ],
      "text/plain": [
       "       XU11  XU12  XU21      XU22      XV11  XV12  XV21      XV22     mChi1  \\\n",
       "0  0.000095  -1.0   1.0  0.000095  0.000002  -1.0   1.0  0.000002  4.429773   \n",
       "\n",
       "        mChi2         MDF  \n",
       "0  236.521481  236.521477  "
      ]
     },
     "execution_count": 62,
     "metadata": {},
     "output_type": "execute_result"
    }
   ],
   "source": [
    "#Got with SPheno\n",
    "xd[['XU11','XU12','XU21','XU22','XV11','XV12','XV21','XV22','mChi1','mChi2','MDF']]"
   ]
  },
  {
   "cell_type": "code",
   "execution_count": null,
   "metadata": {},
   "outputs": [],
   "source": []
  },
  {
   "cell_type": "code",
   "execution_count": 63,
   "metadata": {},
   "outputs": [],
   "source": [
    "###+++++++++ python rutine to get the neutrino eigenvalues +++++++++++++++++++++++++++++\n",
    "\n",
    "#Loop factor\n",
    "def Fkk(mNk,mSk,Vk2,Uk1):\n",
    "    \n",
    "    mk = 1./(16.*np.pi**2)*Vk2*Uk1*(mNk**3/(mNk**2-mSk**2))*np.log(mNk**2/mSk**2)\n",
    "    \n",
    "    return mk   \n",
    "\n",
    "def Fk(mNk,mSk,Vk2,Uk1):\n",
    "    \n",
    "    mk = 1./(16.*np.pi**2)*Vk2*Uk1*mNk*(mNk**2*np.log(mNk**2)-mSk**2*np.log(mSk**2))/(mNk**2-mSk**2)\n",
    "    \n",
    "    return mk   \n",
    "\n",
    "#Mab matrix. sum over i and k is expanded\n",
    "def Mab(YB1b,YB2b,YA1a,YA2a,m1,m2,ms1,ms2,V12,V22,U11,U21):\n",
    "    sumS1= (Fk(m1, ms1, V12, U11)+Fk(m2, ms1, V22, U21))*(YB1b*YA1a) \n",
    "    \n",
    "    sumS2= (Fk(m1, ms2, V12, U11)+Fk(m2, ms2, V22, U21))*(YB2b*YA2a) \n",
    "    \n",
    "    return sumS1 + sumS2\n",
    "\n",
    "def MATRIXDIAG(YB11,YB12,YB13,YB21,YB22,YB23,YA11,YA12,YA13,YA21,YA22,YA23,mS1,mS2,MDF,vS,YRC,YRD):    \n",
    "    \n",
    "    #Diagonalization of Mchi matrix by the bi-unitary transfortion V and U\n",
    "    #v = 246.\n",
    "    v = 244.874526\n",
    "    MX0 = np.matrix( [[MDF,v*YRD/np.sqrt(2.)],[0.,vS*YRC/np.sqrt(2.)]])\n",
    "    #squared eigenvalues e eigenvectors for the V MATRIX\n",
    "    (MVdiag2,V)=np.linalg.eig(MX0*np.transpose(MX0))\n",
    "    #squared eigenvalues e eigenvectors for the U MATRIX\n",
    "    (MUdiag2,U)=np.linalg.eig(np.transpose(MX0)*MX0)\n",
    "    \n",
    "    if np.sqrt(np.abs(MVdiag2[0])) < np.sqrt(np.abs(MVdiag2[1])):\n",
    "        \n",
    "        m1=np.sqrt(np.abs(MVdiag2[0]))\n",
    "        m2=np.sqrt(np.abs(MVdiag2[1]))\n",
    "        V11=V[0,0]\n",
    "        V12=V[0,1]\n",
    "        V21=V[1,0]\n",
    "        V22=V[1,1]\n",
    "        U11=U[0,0]\n",
    "        U12=U[0,1]\n",
    "        U21=U[1,0]\n",
    "        U22=U[1,1]\n",
    "        \n",
    "    else:\n",
    "        \n",
    "        m1=np.sqrt(np.abs(MVdiag2[1]))\n",
    "        m2=np.sqrt(np.abs(MVdiag2[0]))\n",
    "        V11=V[1,0]\n",
    "        V12=-V[1,1]\n",
    "        V21=V[0,0]\n",
    "        V22=-V[0,1]\n",
    "        U11=U[1,0]\n",
    "        U12=-U[1,1]\n",
    "        U21=U[0,0]\n",
    "        U22=-U[0,1]\n",
    "    \n",
    "    #Matrix elements\n",
    "    M11 = Mab(YB11,YB21,YA11,YA21,m1,m2,mS1,mS2,V12,V22,U11,U21)\n",
    "    M12 = Mab(YB11,YB21,YA12,YA22,m1,m2,mS1,mS2,V12,V22,U11,U21)\n",
    "    M13 = Mab(YB11,YB21,YA13,YA23,m1,m2,mS1,mS2,V12,V22,U11,U21)\n",
    "    M21 = Mab(YB12,YB22,YA11,YA21,m1,m2,mS1,mS2,V12,V22,U11,U21)\n",
    "    M22 = Mab(YB12,YB22,YA12,YA22,m1,m2,mS1,mS2,V12,V22,U11,U21)\n",
    "    M23 = Mab(YB12,YB22,YA13,YA23,m1,m2,mS1,mS2,V12,V22,U11,U21)\n",
    "    M31 = Mab(YB13,YB23,YA11,YA21,m1,m2,mS1,mS2,V12,V22,U11,U21)\n",
    "    M32 = Mab(YB13,YB23,YA12,YA22,m1,m2,mS1,mS2,V12,V22,U11,U21)\n",
    "    M33 = Mab(YB13,YB23,YA13,YA23,m1,m2,mS1,mS2,V12,V22,U11,U21)\n",
    "\n",
    "\n",
    "    Mvij = np.matrix( [[M11, M12, M13],\n",
    "                       [M21, M22, M23],\n",
    "                       [M31, M32, M33]] )\n",
    "\n",
    "    #eigenvalues e eigenvectors\n",
    "    (Mdiag2,V)=np.linalg.eig(Mvij*np.transpose(Mvij))\n",
    "    \n",
    "    #took eigenvalues\n",
    "    MX1 = np.sqrt(np.abs(Mdiag2[0]))\n",
    "    MX2 = np.sqrt(np.abs(Mdiag2[1]))\n",
    "    MX3 = np.sqrt(np.abs(Mdiag2[2]))\n",
    "    \n",
    "    ## reorganize the eigenvalues (neutrino masses)\n",
    "    mn1 = 0.\n",
    "    mn2 = 0.\n",
    "    mn3 = 0.\n",
    "\n",
    "    if MX1 < MX2 and MX1 < MX3:\n",
    "        mn1 = MX1\n",
    "        #print \"Hola1\"\n",
    "\n",
    "        if MX2 < MX3:\n",
    "            mn2 = MX2\n",
    "            mn3 = MX3\n",
    "        else:\n",
    "            mn2 = MX3\n",
    "            mn3 = MX2  \n",
    "\n",
    "    if MX2 < MX1 and MX2 < MX3:\n",
    "        mn1 = MX2\n",
    "        #print \"Hola2\" \n",
    "\n",
    "        if MX1 < MX3:\n",
    "            mn2 = MX1\n",
    "            mn3 = MX3\n",
    "        else:\n",
    "            mn2 = MX3\n",
    "            mn3 = MX1   \n",
    "\n",
    "    if MX3 < MX1 and MX3 < MX2:\n",
    "        mn1 = MX3\n",
    "        #print \"Hola3\"  \n",
    "\n",
    "        if MX1 < MX2:\n",
    "            mn2 = MX1\n",
    "            mn3 = MX2\n",
    "        else:\n",
    "            mn2 = MX2\n",
    "            mn3 = MX1\n",
    "\n",
    "    #print(\"Theoretical values found:\")        \n",
    "    #print(mn1, mn2,mn3)   \n",
    "\n",
    "    return mn1, mn2, mn3\n",
    "\n",
    "#run all dataframe\n",
    "MatrixDiag_new=np.vectorize(MATRIXDIAG,excluded={'vev':246.2,'LAMBDA':1E16},doc='Input for pyfunc below:\\\n",
    "YB11,YB12,YB13,YB21,YB22,YB23,YA11,YA12,YA13,YA21,YA22,YA23,mS1,mS2,MDF,vS,YRC,YRD')"
   ]
  },
  {
   "cell_type": "markdown",
   "metadata": {},
   "source": [
    "Example:"
   ]
  },
  {
   "cell_type": "code",
   "execution_count": 64,
   "metadata": {},
   "outputs": [
    {
     "data": {
      "text/plain": [
       "(1.272272599951173e-19, 1.3165732617936993e-15, 3.384186656849829e-11)"
      ]
     },
     "execution_count": 64,
     "metadata": {},
     "output_type": "execute_result"
    }
   ],
   "source": [
    "MATRIXDIAG(YRB11,YRB12,YRB13,YRB21,YRB22,YRB23,YRA11,YRA12,YRA13,YRA21,YRA22,YRA23,mS1,mS2,MDF,vS,YRC,YRD)"
   ]
  },
  {
   "cell_type": "code",
   "execution_count": 65,
   "metadata": {},
   "outputs": [],
   "source": [
    "#Add to the DataFrame\n",
    "xd['mn1'] = MatrixDiag_new(xd.YRB11,xd.YRB12,xd.YRB13,xd.YRB21,xd.YRB22,xd.YRB23,xd.YRA11,xd.YRA12,xd.YRA13,\\\n",
    "               xd.YRA21,xd.YRA22,xd.YRA23,xd.mS1,xd.mS2,xd.MDF,xd.vS,xd.YRC,xd.YRD)[0]\n",
    "xd['mn2'] = MatrixDiag_new(xd.YRB11,xd.YRB12,xd.YRB13,xd.YRB21,xd.YRB22,xd.YRB23,xd.YRA11,xd.YRA12,xd.YRA13,\\\n",
    "               xd.YRA21,xd.YRA22,xd.YRA23,xd.mS1,xd.mS2,xd.MDF,xd.vS,xd.YRC,xd.YRD)[1]\n",
    "xd['mn3'] = MatrixDiag_new(xd.YRB11,xd.YRB12,xd.YRB13,xd.YRB21,xd.YRB22,xd.YRB23,xd.YRA11,xd.YRA12,xd.YRA13,\\\n",
    "               xd.YRA21,xd.YRA22,xd.YRA23,xd.mS1,xd.mS2,xd.MDF,xd.vS,xd.YRC,xd.YRD)[2]"
   ]
  },
  {
   "cell_type": "code",
   "execution_count": 66,
   "metadata": {},
   "outputs": [],
   "source": [
    "#good plots\n",
    "plt.rcParams.update({'font.size': 20}) \n",
    "#plt.rc('font',size='18')"
   ]
  },
  {
   "cell_type": "code",
   "execution_count": 67,
   "metadata": {},
   "outputs": [
    {
     "data": {
      "image/png": "[encoded data removed]",
      "text/plain": [
       "<Figure size 576x432 with 1 Axes>"
      ]
     },
     "metadata": {
      "needs_background": "light"
     },
     "output_type": "display_data"
    }
   ],
   "source": [
    "plt.figure(figsize=(8,6))\n",
    "\n",
    "#plt.loglog(xd.mv1,xd.mn1,'bo')\n",
    "plt.loglog(xd.mv2,xd.mn2,'bo')\n",
    "plt.loglog(xd.mv3,xd.mn3,'go')\n",
    "\n",
    "a = np.linspace(1e-014,1e-08,20)\n",
    "plt.plot(a,a,'r-')\n",
    "\n",
    "plt.xlabel(r'$m_i$SPHENO (GeV)',size=25)\n",
    "plt.ylabel(r'$m_i$Analytic (GeV)',size=25)\n",
    "plt.legend()\n",
    "\n",
    "plt.grid()\n",
    "\n",
    "plt.tight_layout()\n",
    "#plt.savefig('plots/neutrino_masses.pdf')"
   ]
  },
  {
   "cell_type": "code",
   "execution_count": 68,
   "metadata": {},
   "outputs": [
    {
     "data": {
      "image/png": "[encoded data removed]",
      "text/plain": [
       "<Figure size 576x432 with 1 Axes>"
      ]
     },
     "metadata": {
      "needs_background": "light"
     },
     "output_type": "display_data"
    }
   ],
   "source": [
    "plt.figure(figsize=(8,6))\n",
    "\n",
    "#plt.loglog(xd.mv1,xd.mn1,'bo')\n",
    "plt.loglog( xd.mChi1, xd.mv2/xd.mn2,'go')\n",
    "plt.loglog( xd.mChi1, xd.mv3/xd.mn3,'r.')\n",
    "\n",
    "plt.hlines(1, 1.0E+00, 1.0E+03)\n",
    "\n",
    "plt.xlabel(r'$m_{\\chi_1}$GeV)',size=25)\n",
    "plt.ylabel(r'$m_i$Spheno/$m_i$Analytic',size=25)\n",
    "\n",
    "plt.grid()\n",
    "\n",
    "#plt.ylim(0.9999999,1.0000001)\n",
    "\n",
    "plt.tight_layout()"
   ]
  },
  {
   "cell_type": "code",
   "execution_count": 13,
   "metadata": {},
   "outputs": [
    {
     "data": {
      "image/png": "[encoded data removed]",
      "text/plain": [
       "<Figure size 576x432 with 1 Axes>"
      ]
     },
     "metadata": {
      "needs_background": "light"
     },
     "output_type": "display_data"
    }
   ],
   "source": [
    "plt.figure(figsize=(8,6))\n",
    "\n",
    "#plt.loglog(xd.mv1,xd.mn1,'bo')\n",
    "plt.loglog((xd.mv1+xd.mv2+xd.mv3),(xd.mn1+xd.mn2+xd.mn3),'bo',label='sum')\n",
    "\n",
    "a = np.linspace(1e-012,1e-08,20)\n",
    "plt.plot(a,a,'r-')\n",
    "\n",
    "plt.xlabel(r'$m_i$SPHENO (GeV)',size=25)\n",
    "plt.ylabel(r'$m_i$Analytic (GeV)',size=25)\n",
    "plt.legend()\n",
    "\n",
    "plt.grid()\n",
    "\n",
    "plt.tight_layout()\n",
    "#plt.savefig('plots/neutrino_masses.pdf')"
   ]
  },
  {
   "cell_type": "markdown",
   "metadata": {},
   "source": [
    "Note: when we do the rotation of the Mchi matrix instead of the SPheno the approximation is less accurate."
   ]
  },
  {
   "cell_type": "code",
   "execution_count": 22,
   "metadata": {},
   "outputs": [],
   "source": [
    "BP = xd[np.logical_and(xd.mv2/xd.mn2 > 4.6 , 1>0)]"
   ]
  },
  {
   "cell_type": "code",
   "execution_count": 23,
   "metadata": {},
   "outputs": [
    {
     "data": {
      "text/html": [
       "<div>\n",
       "<style scoped>\n",
       "    .dataframe tbody tr th:only-of-type {\n",
       "        vertical-align: middle;\n",
       "    }\n",
       "\n",
       "    .dataframe tbody tr th {\n",
       "        vertical-align: top;\n",
       "    }\n",
       "\n",
       "    .dataframe thead th {\n",
       "        text-align: right;\n",
       "    }\n",
       "</style>\n",
       "<table border=\"1\" class=\"dataframe\">\n",
       "  <thead>\n",
       "    <tr style=\"text-align: right;\">\n",
       "      <th></th>\n",
       "      <th>Unnamed: 0</th>\n",
       "      <th>MDF</th>\n",
       "      <th>MS12</th>\n",
       "      <th>MS22</th>\n",
       "      <th>LamS1H</th>\n",
       "      <th>LamS2H</th>\n",
       "      <th>LamSPH</th>\n",
       "      <th>LamS</th>\n",
       "      <th>LamSP</th>\n",
       "      <th>vS</th>\n",
       "      <th>...</th>\n",
       "      <th>XV12</th>\n",
       "      <th>XV21</th>\n",
       "      <th>XV22</th>\n",
       "      <th>XU11</th>\n",
       "      <th>XU12</th>\n",
       "      <th>XU21</th>\n",
       "      <th>XU22</th>\n",
       "      <th>mn1</th>\n",
       "      <th>mn2</th>\n",
       "      <th>mn3</th>\n",
       "    </tr>\n",
       "  </thead>\n",
       "  <tbody>\n",
       "    <tr>\n",
       "      <th>1</th>\n",
       "      <td>1</td>\n",
       "      <td>236.521477</td>\n",
       "      <td>5.068035e+07</td>\n",
       "      <td>1.231840e+06</td>\n",
       "      <td>0.0</td>\n",
       "      <td>0.0</td>\n",
       "      <td>0.0</td>\n",
       "      <td>0.0</td>\n",
       "      <td>0.060738</td>\n",
       "      <td>565.219082</td>\n",
       "      <td>...</td>\n",
       "      <td>-1.0</td>\n",
       "      <td>1.0</td>\n",
       "      <td>0.000002</td>\n",
       "      <td>0.000095</td>\n",
       "      <td>-1.0</td>\n",
       "      <td>1.0</td>\n",
       "      <td>0.000095</td>\n",
       "      <td>1.272273e-19</td>\n",
       "      <td>1.316573e-15</td>\n",
       "      <td>3.384187e-11</td>\n",
       "    </tr>\n",
       "  </tbody>\n",
       "</table>\n",
       "<p>1 rows × 45 columns</p>\n",
       "</div>"
      ],
      "text/plain": [
       "   Unnamed: 0         MDF          MS12          MS22  LamS1H  LamS2H  LamSPH  \\\n",
       "1           1  236.521477  5.068035e+07  1.231840e+06     0.0     0.0     0.0   \n",
       "\n",
       "   LamS     LamSP          vS      ...       XV12  XV21      XV22      XU11  \\\n",
       "1   0.0  0.060738  565.219082      ...       -1.0   1.0  0.000002  0.000095   \n",
       "\n",
       "   XU12  XU21      XU22           mn1           mn2           mn3  \n",
       "1  -1.0   1.0  0.000095  1.272273e-19  1.316573e-15  3.384187e-11  \n",
       "\n",
       "[1 rows x 45 columns]"
      ]
     },
     "execution_count": 23,
     "metadata": {},
     "output_type": "execute_result"
    }
   ],
   "source": [
    "BP"
   ]
  },
  {
   "cell_type": "code",
   "execution_count": 24,
   "metadata": {},
   "outputs": [],
   "source": [
    "kk=BP[['MDF','MS12','MS22','LamS1H','LamS2H','LamSPH','LamS','LamSP','vS','YRD','YRC','YRA11','YRA12','YRA13',\\\n",
    "    'YRA21','YRA22','YRA23','YRB11','YRB12','YRB13','YRB21','YRB22','YRB23']]"
   ]
  },
  {
   "cell_type": "code",
   "execution_count": 25,
   "metadata": {},
   "outputs": [
    {
     "data": {
      "text/plain": [
       "1    236.521477\n",
       "Name: MDF, dtype: float64"
      ]
     },
     "execution_count": 25,
     "metadata": {},
     "output_type": "execute_result"
    }
   ],
   "source": [
    "kk.MDF"
   ]
  },
  {
   "cell_type": "code",
   "execution_count": 26,
   "metadata": {},
   "outputs": [],
   "source": [
    "kk.to_csv('BP.csv')"
   ]
  },
  {
   "cell_type": "code",
   "execution_count": 18,
   "metadata": {},
   "outputs": [
    {
     "data": {
      "text/plain": [
       "Index(['MDF', 'MS12', 'MS22', 'LamS1H', 'LamS2H', 'LamSPH', 'LamS', 'LamSP',\n",
       "       'vS', 'YRD', 'YRC', 'YRA11', 'YRA12', 'YRA13', 'YRA21', 'YRA22',\n",
       "       'YRA23', 'YRB11', 'YRB12', 'YRB13', 'YRB21', 'YRB22', 'YRB23', 'mh1',\n",
       "       'mh2', 'mv3', 'mv2', 'mv1', 'mS1', 'mS2', 'mCha', 'mChi1', 'mChi2',\n",
       "       'XV11', 'XV12', 'XV21', 'XV22', 'XU11', 'XU12', 'XU21', 'XU22', 'mn1',\n",
       "       'mn2', 'mn3'],\n",
       "      dtype='object')"
      ]
     },
     "execution_count": 18,
     "metadata": {},
     "output_type": "execute_result"
    }
   ],
   "source": [
    "xd.columns"
   ]
  },
  {
   "cell_type": "code",
   "execution_count": 20,
   "metadata": {},
   "outputs": [
    {
     "data": {
      "text/plain": [
       "0    7119.01334\n",
       "Name: mS2, dtype: float64"
      ]
     },
     "execution_count": 20,
     "metadata": {},
     "output_type": "execute_result"
    }
   ],
   "source": [
    "xd.mS2"
   ]
  },
  {
   "cell_type": "code",
   "execution_count": null,
   "metadata": {},
   "outputs": [],
   "source": []
  }
 ],
 "metadata": {
  "kernelspec": {
   "display_name": "Python 3",
   "language": "python",
   "name": "python3"
  },
  "language_info": {
   "codemirror_mode": {
    "name": "ipython",
    "version": 3
   },
   "file_extension": ".py",
   "mimetype": "text/x-python",
   "name": "python",
   "nbconvert_exporter": "python",
   "pygments_lexer": "ipython3",
   "version": "3.4.2"
  }
 },
 "nbformat": 4,
 "nbformat_minor": 1
}
