{
 "cells": [
  {
   "cell_type": "markdown",
   "metadata": {},
   "source": [
    "# Created LSHA file Using pyslha in python3"
   ]
  },
  {
   "cell_type": "code",
   "execution_count": 1,
   "metadata": {
    "collapsed": true
   },
   "outputs": [],
   "source": [
    "import numpy as np\n",
    "import time"
   ]
  },
  {
   "cell_type": "code",
   "execution_count": 2,
   "metadata": {
    "collapsed": true
   },
   "outputs": [],
   "source": [
    "%matplotlib inline\n",
    "import matplotlib.pyplot as plt "
   ]
  },
  {
   "cell_type": "code",
   "execution_count": 3,
   "metadata": {
    "collapsed": false
   },
   "outputs": [
    {
     "name": "stdout",
     "output_type": "stream",
     "text": [
      "Hello world in python 3!\n"
     ]
    }
   ],
   "source": [
    "print(\"Hello world in python 3!\")"
   ]
  },
  {
   "cell_type": "markdown",
   "metadata": {},
   "source": [
    "Generic rutine in jupyter"
   ]
  },
  {
   "cell_type": "code",
   "execution_count": 4,
   "metadata": {
    "collapsed": false
   },
   "outputs": [
    {
     "name": "stdout",
     "output_type": "stream",
     "text": [
      "The program spent 0.006070852279663086 s running 1 times\n"
     ]
    }
   ],
   "source": [
    "#!/usr/bin/env python\n",
    "\n",
    "import pyslha\n",
    "import time\n",
    "import sys\n",
    "\n",
    "# Tiempo inicial\n",
    "t1=time.time() \n",
    "\n",
    "#Read the blocks, but do not read all its entries.\n",
    "LHA = pyslha.readSLHAFile('LesHouches.in.SDdiracDM_low', ignorenomass=True)\n",
    "\n",
    "#Add entries with coments (some of them were vacum)\n",
    "LHA.blocks['MODSEL'].entries[1]='0               #  1/0: High/low scale input' \n",
    "LHA.blocks['MODSEL'].entries[2]='1              # Boundary Condition'\n",
    "LHA.blocks['MODSEL'].entries[6]='1               # Generation Mixing'\n",
    "LHA.blocks['MODSEL'].entries[12]='173.5         # Renormalization scale'  \n",
    "\n",
    "LHA.blocks['SMINPUTS'].entries[2]='1.166370E-05    # G_F,Fermi constant' \n",
    "LHA.blocks['SMINPUTS'].entries[3]='1.187000E-01    # alpha_s(MZ) SM MSbar' \n",
    "LHA.blocks['SMINPUTS'].entries[4]='9.118870E+01    # Z-boson pole mass' \n",
    "LHA.blocks['SMINPUTS'].entries[5]='4.180000E+00    # m_b(mb) SM MSbar' \n",
    "LHA.blocks['SMINPUTS'].entries[6]='1.735000E+02    # m_top(pole)' \n",
    "LHA.blocks['SMINPUTS'].entries[7]='1.776690E+00    # m_tau(pole)' \n",
    "\n",
    "LHA.blocks['MINPAR'].entries[1]='2.7000000E-01    # LambdaIN'\n",
    "LHA.blocks['MINPAR'].entries[2]='3.0000000E+02    # MDFInput'\n",
    "LHA.blocks['MINPAR'].entries[3]='1.0000000E+06    # MS12Input'\n",
    "LHA.blocks['MINPAR'].entries[4]='4.0000000E+06    # MS22Input'\n",
    "LHA.blocks['MINPAR'].entries[5]='1.0000000E-02    # LamS1HInput'\n",
    "LHA.blocks['MINPAR'].entries[6]='1.0000000E-04    # LamS2HInput'\n",
    "LHA.blocks['MINPAR'].entries[7]='1.0000000E-04    # LamSPHInput'\n",
    "LHA.blocks['MINPAR'].entries[8]='1.0000000E-04    # LamSInput'\n",
    "LHA.blocks['MINPAR'].entries[9]='3.0000000E-01    # LamSPInput'\n",
    "LHA.blocks['MINPAR'].entries[10]='5.0000000E+02    # vSInput'\n",
    "LHA.blocks['MINPAR'].entries[11]='1.0000000E-03    # YRDInput'\n",
    "LHA.blocks['MINPAR'].entries[12]='5.0000000E-01    # YRCInput'\n",
    "\n",
    "LHA.blocks['SPHENOINPUT'].entries[1]='-1              # error level' \n",
    "LHA.blocks['SPHENOINPUT'].entries[2]='  0              # SPA conventions' \n",
    "LHA.blocks['SPHENOINPUT'].entries[7]='  1              # Skip 2-loop Higgs corrections '\n",
    "LHA.blocks['SPHENOINPUT'].entries[8]='  3              # Method used for two-loop calculation' \n",
    "LHA.blocks['SPHENOINPUT'].entries[9]='  1              # Gaugeless limit used at two-loop' \n",
    "LHA.blocks['SPHENOINPUT'].entries[10]='  0              # safe-mode used at two-loop '\n",
    "LHA.blocks['SPHENOINPUT'].entries[11]=' 1               # calculate branching ratios '\n",
    "LHA.blocks['SPHENOINPUT'].entries[13]=' 1               # 3-Body decays: none (0), fermion (1), scalar (2), both (3) '\n",
    "LHA.blocks['SPHENOINPUT'].entries[14]=' 0               # Run couplings to scale of decaying particle '\n",
    "LHA.blocks['SPHENOINPUT'].entries[12]=' 1.000E-04       # write only branching ratios larger than this value' \n",
    "LHA.blocks['SPHENOINPUT'].entries[15]=' 1.000E-30       # write only decay if width larger than this value '\n",
    "LHA.blocks['SPHENOINPUT'].entries[16]=' 0              # One-loop decays '\n",
    "LHA.blocks['SPHENOINPUT'].entries[31]=' -1              # fixed GUT scale (-1: dynamical GUT scale)' \n",
    "LHA.blocks['SPHENOINPUT'].entries[32]=' 0               # Strict unification '\n",
    "LHA.blocks['SPHENOINPUT'].entries[34]=' 1.000E-04       # Precision of mass calculation' \n",
    "LHA.blocks['SPHENOINPUT'].entries[35]=' 40              # Maximal number of iterations'\n",
    "LHA.blocks['SPHENOINPUT'].entries[36]=' 5               # Minimal number of iterations before discarding points'\n",
    "LHA.blocks['SPHENOINPUT'].entries[37]=' 1               # Set Yukawa scheme  '\n",
    "LHA.blocks['SPHENOINPUT'].entries[38]=' 1               # 1- or 2-Loop RGEs '\n",
    "LHA.blocks['SPHENOINPUT'].entries[50]=' 0               # Majorana phases: use only positive masses (put 0 to use file with CalcHep/Micromegas!) '\n",
    "LHA.blocks['SPHENOINPUT'].entries[51]=' 0               # Write Output in CKM basis '\n",
    "LHA.blocks['SPHENOINPUT'].entries[52]=' 0               # Write spectrum in case of tachyonic states' \n",
    "LHA.blocks['SPHENOINPUT'].entries[55]=' 0               # Calculate loop corrected masses '\n",
    "LHA.blocks['SPHENOINPUT'].entries[61]=' 0               # Running SM parameters'\n",
    "LHA.blocks['SPHENOINPUT'].entries[57]=' 1               # Calculate low energy constraints '\n",
    "LHA.blocks['SPHENOINPUT'].entries[65]=' 1               # Solution tadpole equation '\n",
    "LHA.blocks['SPHENOINPUT'].entries[66]=' 1               # Two-Scale Matching '\n",
    "LHA.blocks['SPHENOINPUT'].entries[67]=' 1               # effective Higgs mass calculation '\n",
    "LHA.blocks['SPHENOINPUT'].entries[75]=' 0               # Write WHIZARD files '\n",
    "LHA.blocks['SPHENOINPUT'].entries[76]=' 0               # Write HiggsBounds file'   \n",
    "LHA.blocks['SPHENOINPUT'].entries[77]=' 1               # Output for MicrOmegas (running masses for light quarks; real mixing matrices)'   \n",
    "LHA.blocks['SPHENOINPUT'].entries[78]=' 1               # Output for MadGraph (writes also vanishing blocks)'\n",
    "LHA.blocks['SPHENOINPUT'].entries[79]=' 1               # Write WCXF files (exchange format for Wilson coefficients)' \n",
    "LHA.blocks['SPHENOINPUT'].entries[86]=' 0.              # Maximal width to be counted as invisible in Higgs decays; -1: only LSP '\n",
    "LHA.blocks['SPHENOINPUT'].entries[510]=' 0.              # Write tree level values for tadpole solutions '\n",
    "LHA.blocks['SPHENOINPUT'].entries[515]=' 0               # Write parameter values at GUT scale '\n",
    "LHA.blocks['SPHENOINPUT'].entries[520]=' 1.              # Write effective Higgs couplings (HiggsBounds blocks): put 0 to use file with MadGraph!' \n",
    "LHA.blocks['SPHENOINPUT'].entries[521]=' 1.              # Diphoton/Digluon widths including higher order '\n",
    "LHA.blocks['SPHENOINPUT'].entries[525]=' 0.              # Write loop contributions to diphoton decay of Higgs' \n",
    "LHA.blocks['SPHENOINPUT'].entries[530]=' 0               # Write Blocks for Vevacious '\n",
    "LHA.blocks['SPHENOINPUT'].entries[1101]=' 1             # Include Fxe in 1.loop corrections' \n",
    "LHA.blocks['SPHENOINPUT'].entries[1102]=' 1             # Include Fd in 1.loop corrections '\n",
    "LHA.blocks['SPHENOINPUT'].entries[1103]=' 1             # Include Fu in 1.loop corrections '\n",
    "LHA.blocks['SPHENOINPUT'].entries[1104]=' 1             # Include Fe in 1.loop corrections '\n",
    "LHA.blocks['SPHENOINPUT'].entries[1105]=' 1             # Include Fv in 1.loop corrections '\n",
    "LHA.blocks['SPHENOINPUT'].entries[1106]=' 1             # Include Fxv in 1.loop corrections '\n",
    "LHA.blocks['SPHENOINPUT'].entries[1201]=' 1             # Include Hp in 1.loop corrections '\n",
    "LHA.blocks['SPHENOINPUT'].entries[1202]=' 1             # Include Ah in 1.loop corrections '\n",
    "LHA.blocks['SPHENOINPUT'].entries[1203]=' 1             # Include hh in 1.loop corrections '\n",
    "LHA.blocks['SPHENOINPUT'].entries[1204]=' 1             # Include Ssc in 1.loop corrections '\n",
    "LHA.blocks['SPHENOINPUT'].entries[1301]=' 1             # Include VG in 1.loop corrections '\n",
    "LHA.blocks['SPHENOINPUT'].entries[1302]=' 1             # Include VP in 1.loop corrections '\n",
    "LHA.blocks['SPHENOINPUT'].entries[1303]=' 1             # Include VZ in 1.loop corrections '\n",
    "LHA.blocks['SPHENOINPUT'].entries[1304]=' 1             # Include VWp in 1.loop corrections '\n",
    "LHA.blocks['SPHENOINPUT'].entries[1401]=' 1             # Include gG in 1.loop corrections '\n",
    "LHA.blocks['SPHENOINPUT'].entries[1402]=' 1             # Include gA in 1.loop corrections '\n",
    "LHA.blocks['SPHENOINPUT'].entries[1403]=' 1             # Include gZ in 1.loop corrections '\n",
    "LHA.blocks['SPHENOINPUT'].entries[1404]=' 1             # Include gWp in 1.loop corrections '\n",
    "LHA.blocks['SPHENOINPUT'].entries[1405]=' 1             # Include gWC in 1.loop corrections '\n",
    "LHA.blocks['SPHENOINPUT'].entries[1500]=' 1               # Include Wave diagrams 1.loop corrections '\n",
    "LHA.blocks['SPHENOINPUT'].entries[1501]=' 1               # Include Penguin diagrams 1.loop corrections' \n",
    "LHA.blocks['SPHENOINPUT'].entries[1502]=' 1               # Include Box diagrams 1.loop corrections '\n",
    "\n",
    "LHA.blocks['DECAYOPTIONS'].entries[1]='1     # Calc 3-Body decays of Fu '\n",
    "LHA.blocks['DECAYOPTIONS'].entries[2]='1     # Calc 3-Body decays of Fe '\n",
    "LHA.blocks['DECAYOPTIONS'].entries[3]='1     # Calc 3-Body decays of Fd '\n",
    "LHA.blocks['DECAYOPTIONS'].entries[1001]='1     # Loop Decay of Fu '\n",
    "LHA.blocks['DECAYOPTIONS'].entries[1002]='1     # Loop Decay of Fe '\n",
    "LHA.blocks['DECAYOPTIONS'].entries[1003]='1     # Loop Decay of Fd '\n",
    "LHA.blocks['DECAYOPTIONS'].entries[1004]='1     # Loop Decay of hh '\n",
    "LHA.blocks['DECAYOPTIONS'].entries[1005]='1     # Loop Decay of Ssc '\n",
    "LHA.blocks['DECAYOPTIONS'].entries[1006]='0     # Loop Decay of Fxe '\n",
    "LHA.blocks['DECAYOPTIONS'].entries[1007]='0     # Loop Decay of Fxv '\n",
    "LHA.blocks['DECAYOPTIONS'].entries[1114]='1.     # U-factors (0: off, 1:p2_i=m2_i, 2:p2=0, p3:p2_i=m2_1) '\n",
    "LHA.blocks['DECAYOPTIONS'].entries[1115]='1.     # Use loop-corrected masses for external states '\n",
    "LHA.blocks['DECAYOPTIONS'].entries[1116]='0.     # OS values for W,Z and fermions (0: off, 1:g1,g2,v 2:g1,g2,v,Y_i) '\n",
    "LHA.blocks['DECAYOPTIONS'].entries[1117]='0.     # Use defined counter-terms '\n",
    "LHA.blocks['DECAYOPTIONS'].entries[1118]='1.     # Use everywhere loop-corrected masses for loop-induced decays '\n",
    "\n",
    "LHA.blocks['YNUIN'].entries[1,1]=' 0.000000E-00         # YNU(1,1)'\n",
    "LHA.blocks['YNUIN'].entries[1,2]=' 0.000000E-00         # YNU(1,2)'\n",
    "LHA.blocks['YNUIN'].entries[1,3]=' 0.000000E-00         # YNU(1,3)'\n",
    "LHA.blocks['YNUIN'].entries[2,1]=' 0.000000E-00         # YNU(2,1)'\n",
    "LHA.blocks['YNUIN'].entries[2,2]=' 0.000000E-00         # YNU(2,2)'\n",
    "LHA.blocks['YNUIN'].entries[2,3]=' 0.000000E-00         # YNU(2,3)'\n",
    "LHA.blocks['YNUIN'].entries[3,1]=' 0.000000E-00         # YNU(3,1)'\n",
    "LHA.blocks['YNUIN'].entries[3,2]=' 0.000000E-00         # YNU(3,2)'\n",
    "LHA.blocks['YNUIN'].entries[3,3]=' 0.000000E-00         # YNU(3,3)'\n",
    "\n",
    "LHA.blocks['YRA1IN'].entries[1]='1.000000E-02         # YRA1(1)'\n",
    "LHA.blocks['YRA1IN'].entries[2]='2.000000E-02         # YRA1(2)'\n",
    "LHA.blocks['YRA1IN'].entries[3]='3.000000E-03         # YRA1(3)'\n",
    "\n",
    "LHA.blocks['YRA2IN'].entries[1]='1.100000E-02         # YRA2(1)'\n",
    "LHA.blocks['YRA2IN'].entries[2]='3.200000E-03         # YRA2(2)'\n",
    "LHA.blocks['YRA2IN'].entries[3]='2.100000E-03         # YRA2(3)'\n",
    "\n",
    "LHA.blocks['YRB1IN'].entries[1]='3.100000E-03         # YRB1(1)'\n",
    "LHA.blocks['YRB1IN'].entries[2]='2.100000E-03         # YRB1(2)'\n",
    "LHA.blocks['YRB1IN'].entries[3]='1.100000E-03         # YRB1(3)'\n",
    "\n",
    "LHA.blocks['YRB2IN'].entries[1]='3.000000E-02         # YRB2(1)'\n",
    "LHA.blocks['YRB2IN'].entries[2]='2.000000E-03         # YRB2(2)'\n",
    "LHA.blocks['YRB2IN'].entries[3]='1.000000E-03         # YRB2(3)'\n",
    "\n",
    "# Example: Modific the LesHouches_low   \n",
    "LHA.blocks['MINPAR'].entries[2]='%.7E    # MDFInput' %222\n",
    "#xdict['MINPAR'].entries[3]='%.6E    # MS12Input' %MS12      \n",
    "\n",
    "#Write the LesHouches.in.SDdiracDM_low file\n",
    "pyslha.writeSLHAFile('LesHouches.in.SDdiracDM_low',LHA)\n",
    "\n",
    "t4=time.time() \n",
    "print (\"The program spent\", t4-t1, \"s running\",1,\"times\")    "
   ]
  },
  {
   "cell_type": "code",
   "execution_count": 5,
   "metadata": {
    "collapsed": false
   },
   "outputs": [
    {
     "data": {
      "text/plain": [
       "<PySLHA Doc: 10 blocks, 0 decays, 0 xsections>"
      ]
     },
     "execution_count": 5,
     "metadata": {},
     "output_type": "execute_result"
    }
   ],
   "source": [
    "LHA"
   ]
  },
  {
   "cell_type": "code",
   "execution_count": 6,
   "metadata": {
    "collapsed": false
   },
   "outputs": [
    {
     "data": {
      "text/plain": [
       "Blocks\n",
       "  MODSEL\n",
       "  SMINPUTS\n",
       "  MINPAR\n",
       "  SPHENOINPUT\n",
       "  DECAYOPTIONS\n",
       "  YNUIN\n",
       "  YRA1IN\n",
       "  YRA2IN\n",
       "  YRB1IN\n",
       "  YRB2IN"
      ]
     },
     "execution_count": 6,
     "metadata": {},
     "output_type": "execute_result"
    }
   ],
   "source": [
    "LHA.blocks"
   ]
  },
  {
   "cell_type": "code",
   "execution_count": 7,
   "metadata": {
    "collapsed": false
   },
   "outputs": [
    {
     "data": {
      "text/plain": [
       "0               #  1/0: High/low scale input\n",
       "  1              # Boundary Condition\n",
       "  1               # Generation Mixing\n",
       "  173.5         # Renormalization scale"
      ]
     },
     "execution_count": 7,
     "metadata": {},
     "output_type": "execute_result"
    }
   ],
   "source": [
    "LHA.blocks['MODSEL'].entries"
   ]
  },
  {
   "cell_type": "code",
   "execution_count": 8,
   "metadata": {
    "collapsed": false
   },
   "outputs": [
    {
     "name": "stdout",
     "output_type": "stream",
     "text": [
      "173.5         # Renormalization scale\n"
     ]
    }
   ],
   "source": [
    "print(LHA.blocks['MODSEL'].entries[12])"
   ]
  },
  {
   "cell_type": "markdown",
   "metadata": {
    "collapsed": true
   },
   "source": [
    "# Writing the Leshouches.in file in a compact form"
   ]
  },
  {
   "cell_type": "code",
   "execution_count": 9,
   "metadata": {
    "collapsed": false
   },
   "outputs": [],
   "source": [
    "import pyslha\n",
    "import pySDdiracDM_LesHouches_generator\n",
    "\n",
    "#Open xdict which is now a <PySLHA Doc: 10 blocks, 0 decays, 0 xsections>\n",
    "xdict = pySDdiracDM_LesHouches_generator.buildSLHAinFile()\n",
    "\n",
    "#Modified the xdict elements\n",
    "#Examples\n",
    "xdict.blocks['MINPAR'].entries[2]='%.7E    # MDFInput' %1117\n",
    "\n",
    "#Write the Leshouches file\n",
    "pyslha.writeSLHAFile('LesHouches.in.SDdiracDM_low',xdict)"
   ]
  },
  {
   "cell_type": "code",
   "execution_count": 10,
   "metadata": {
    "collapsed": false
   },
   "outputs": [
    {
     "data": {
      "text/plain": [
       "2.7000000E-01    # LambdaIN\n",
       "  1.1170000E+03    # MDFInput\n",
       "  1.0000000E+06    # MS12Input\n",
       "  4.0000000E+06    # MS22Input\n",
       "  1.0000000E-02    # LamS1HInput\n",
       "  1.0000000E-04    # LamS2HInput\n",
       "  1.0000000E-04    # LamSPHInput\n",
       "  1.0000000E-04    # LamSInput\n",
       "  3.0000000E-01    # LamSPInput\n",
       "  5.0000000E+02    # vSInput\n",
       "  1.0000000E-03    # YRDInput\n",
       "  5.0000000E-01    # YRCInput"
      ]
     },
     "execution_count": 10,
     "metadata": {},
     "output_type": "execute_result"
    }
   ],
   "source": [
    "xdict.blocks['MINPAR'].entries"
   ]
  },
  {
   "cell_type": "code",
   "execution_count": 11,
   "metadata": {
    "collapsed": false
   },
   "outputs": [
    {
     "data": {
      "text/plain": [
       "2.7000000E-01    # LambdaIN\n",
       "  1.1170000E+03    # MDFInput\n",
       "  1.0000000E+06    # MS12Input\n",
       "  4.0000000E+06    # MS22Input\n",
       "  1.0000000E-02    # LamS1HInput\n",
       "  1.0000000E-04    # LamS2HInput\n",
       "  1.0000000E-04    # LamSPHInput\n",
       "  1.0000000E-04    # LamSInput\n",
       "  3.0000000E-01    # LamSPInput\n",
       "  5.0000000E+02    # vSInput\n",
       "  1.0000000E-03    # YRDInput\n",
       "  5.0000000E-01    # YRCInput"
      ]
     },
     "execution_count": 11,
     "metadata": {},
     "output_type": "execute_result"
    }
   ],
   "source": [
    "xdict.blocks['MINPAR'].entries"
   ]
  },
  {
   "cell_type": "code",
   "execution_count": null,
   "metadata": {
    "collapsed": false
   },
   "outputs": [],
   "source": []
  },
  {
   "cell_type": "code",
   "execution_count": null,
   "metadata": {
    "collapsed": true
   },
   "outputs": [],
   "source": []
  }
 ],
 "metadata": {
  "kernelspec": {
   "display_name": "Python 3",
   "language": "python",
   "name": "python3"
  },
  "language_info": {
   "codemirror_mode": {
    "name": "ipython",
    "version": 3
   },
   "file_extension": ".py",
   "mimetype": "text/x-python",
   "name": "python",
   "nbconvert_exporter": "python",
   "pygments_lexer": "ipython3",
   "version": "3.4.2"
  }
 },
 "nbformat": 4,
 "nbformat_minor": 1
}
